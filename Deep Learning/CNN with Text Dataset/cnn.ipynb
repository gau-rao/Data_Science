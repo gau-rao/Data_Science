{
 "cells": [
  {
   "cell_type": "code",
   "execution_count": 1,
   "metadata": {},
   "outputs": [
    {
     "name": "stderr",
     "output_type": "stream",
     "text": [
      "[nltk_data] Downloading package averaged_perceptron_tagger to\n",
      "[nltk_data]     C:\\Users\\91983\\AppData\\Roaming\\nltk_data...\n",
      "[nltk_data]   Package averaged_perceptron_tagger is already up-to-\n",
      "[nltk_data]       date!\n",
      "[nltk_data] Downloading package punkt to\n",
      "[nltk_data]     C:\\Users\\91983\\AppData\\Roaming\\nltk_data...\n",
      "[nltk_data]   Package punkt is already up-to-date!\n",
      "[nltk_data] Downloading package maxent_ne_chunker to\n",
      "[nltk_data]     C:\\Users\\91983\\AppData\\Roaming\\nltk_data...\n",
      "[nltk_data]   Package maxent_ne_chunker is already up-to-date!\n",
      "[nltk_data] Downloading package words to\n",
      "[nltk_data]     C:\\Users\\91983\\AppData\\Roaming\\nltk_data...\n",
      "[nltk_data]   Package words is already up-to-date!\n"
     ]
    }
   ],
   "source": [
    "import tensorflow as tf\n",
    "import os\n",
    "import numpy as np\n",
    "import pandas as pd\n",
    "from nltk import ne_chunk, pos_tag, word_tokenize\n",
    "from nltk.tree import Tree\n",
    "import nltk\n",
    "nltk.download('averaged_perceptron_tagger')\n",
    "from tensorflow.keras.preprocessing.text import Tokenizer\n",
    "from tensorflow.keras.preprocessing.sequence import pad_sequences\n",
    "nltk.download('punkt')\n",
    "nltk.download('maxent_ne_chunker')\n",
    "nltk.download('words')\n",
    "from tensorflow.keras.preprocessing.text import Tokenizer\n",
    "from tensorflow.keras.utils import to_categorical\n",
    "from sklearn import preprocessing \n",
    "from tensorflow.keras.utils import plot_model\n",
    "from tensorflow.keras.models import Model\n",
    "from tensorflow.keras.layers import Input, Conv1D, MaxPooling1D, concatenate, Dense, Flatten\n",
    "from tensorflow.keras.layers import Embedding\n",
    "from tensorflow.keras.layers import Dropout\n",
    "import tensorflow as tf\n"
   ]
  },
  {
   "cell_type": "code",
   "execution_count": null,
   "metadata": {},
   "outputs": [],
   "source": []
  },
  {
   "cell_type": "code",
   "execution_count": 2,
   "metadata": {},
   "outputs": [
    {
     "data": {
      "text/plain": [
       "18828"
      ]
     },
     "execution_count": 2,
     "metadata": {},
     "output_type": "execute_result"
    }
   ],
   "source": [
    "dir_path=\"document1\"\n",
    "len(os.listdir(dir_path))"
   ]
  },
  {
   "cell_type": "code",
   "execution_count": 3,
   "metadata": {},
   "outputs": [],
   "source": [
    "label=[]\n",
    "file=[] #getting labels and filenames\n",
    "for i in os.listdir(dir_path):\n",
    "    x,y=i.split(\"_\")\n",
    "    y=int(y.split('.')[0])\n",
    "    label.append(x)\n",
    "    file.append(y)"
   ]
  },
  {
   "cell_type": "code",
   "execution_count": 4,
   "metadata": {},
   "outputs": [
    {
     "data": {
      "text/html": [
       "<div>\n",
       "<style scoped>\n",
       "    .dataframe tbody tr th:only-of-type {\n",
       "        vertical-align: middle;\n",
       "    }\n",
       "\n",
       "    .dataframe tbody tr th {\n",
       "        vertical-align: top;\n",
       "    }\n",
       "\n",
       "    .dataframe thead th {\n",
       "        text-align: right;\n",
       "    }\n",
       "</style>\n",
       "<table border=\"1\" class=\"dataframe\">\n",
       "  <thead>\n",
       "    <tr style=\"text-align: right;\">\n",
       "      <th></th>\n",
       "      <th>file</th>\n",
       "      <th>label</th>\n",
       "    </tr>\n",
       "  </thead>\n",
       "  <tbody>\n",
       "    <tr>\n",
       "      <th>0</th>\n",
       "      <td>49960</td>\n",
       "      <td>alt.atheism</td>\n",
       "    </tr>\n",
       "    <tr>\n",
       "      <th>1</th>\n",
       "      <td>51060</td>\n",
       "      <td>alt.atheism</td>\n",
       "    </tr>\n",
       "    <tr>\n",
       "      <th>2</th>\n",
       "      <td>51119</td>\n",
       "      <td>alt.atheism</td>\n",
       "    </tr>\n",
       "    <tr>\n",
       "      <th>3</th>\n",
       "      <td>51120</td>\n",
       "      <td>alt.atheism</td>\n",
       "    </tr>\n",
       "    <tr>\n",
       "      <th>4</th>\n",
       "      <td>51121</td>\n",
       "      <td>alt.atheism</td>\n",
       "    </tr>\n",
       "  </tbody>\n",
       "</table>\n",
       "</div>"
      ],
      "text/plain": [
       "    file        label\n",
       "0  49960  alt.atheism\n",
       "1  51060  alt.atheism\n",
       "2  51119  alt.atheism\n",
       "3  51120  alt.atheism\n",
       "4  51121  alt.atheism"
      ]
     },
     "execution_count": 4,
     "metadata": {},
     "output_type": "execute_result"
    }
   ],
   "source": [
    "df=pd.DataFrame()\n",
    "df[\"file\"]=file\n",
    "df[\"label\"]=label\n",
    "df.head(5)"
   ]
  },
  {
   "cell_type": "code",
   "execution_count": 5,
   "metadata": {},
   "outputs": [
    {
     "data": {
      "image/png": "[encoded data removed]",
      "text/plain": [
       "<Figure size 432x288 with 1 Axes>"
      ]
     },
     "metadata": {},
     "output_type": "display_data"
    }
   ],
   "source": [
    "#count plot for labels\n",
    "import seaborn as sns\n",
    "sns.set(style=\"darkgrid\")\n",
    "ax = sns.countplot(y=\"label\", data=df)\n"
   ]
  },
  {
   "cell_type": "code",
   "execution_count": 6,
   "metadata": {},
   "outputs": [
    {
     "name": "stderr",
     "output_type": "stream",
     "text": [
      "100%|████████████████████████████████████████████████████████████████████████████| 18828/18828 [32:31<00:00,  9.65it/s]\n"
     ]
    }
   ],
   "source": [
    "label=[]\n",
    "file=[]\n",
    "from tqdm import tqdm\n",
    "import glob\n",
    "import re\n",
    "preprocessed_emails=[]\n",
    "preprocessed_text=[]\n",
    "finaltext=[]\n",
    "subject=[]\n",
    "path='document1/*'\n",
    "files=glob.glob(path)\n",
    "def data_preprocessing(dir_path,files,c):\n",
    "    count=0\n",
    "    for i in os.listdir(dir_path):\n",
    "        x,y=i.split(\"_\")\n",
    "        y=int(y.split('.')[0])\n",
    "        label.append(x)\n",
    "        file.append(y)\n",
    "    for f in tqdm (files):\n",
    "        with open(f,'r+') as fil: \n",
    "            for x in fil.readlines():\n",
    "                \n",
    "                if \"Subject:\" in x:\n",
    "                    c+=1\n",
    "                    if \"Re:\" in x :\n",
    "                        y=x.split(\"Re:\")\n",
    "                        a=y[1].lower()\n",
    "                        y = re.compile(r\"\\s+\")\n",
    "\n",
    "                        a = y.sub(\" \", a).strip()\n",
    "                        a=re.sub(r\"[^a-zA-Z]\",\" \",a) #delete /,-,/n,/t\n",
    "                        a = re.sub(r\"\\s+\", ' ', a)\n",
    "                        final_text= a\n",
    "                        subject.append(a)\n",
    "                        break\n",
    "                    else:\n",
    "                        y=x.split(\"Subject:\")\n",
    "                        s=y[1].lower()\n",
    "                        i= re.compile(r\"\\s+\")\n",
    "\n",
    "                        s = i.sub(\" \", s).strip()\n",
    "                        s=re.sub(r\"[^a-zA-Z]\",\" \",s) #delete /,-,/n,/t\n",
    "                        s = re.sub(r\"\\s+\", ' ', s)\n",
    "                        final_text=s\n",
    "                        subject.append(s)\n",
    "                        break\n",
    "        with open(f,'r+') as g:\n",
    "            \n",
    "            filedata=g.read()\n",
    "            emails=re.findall(r\"@[\\w\\.-]+\\b\", filedata)\n",
    "            email_list=[]\n",
    "\n",
    "            for i in emails:\n",
    "                i=i.replace(\"@\",\"\")\n",
    "            \n",
    "                email_list.append(i)\n",
    "            final_list=[]\n",
    "            for i in email_list:\n",
    "                split_email=i.split(\".\")\n",
    "                for j in split_email:\n",
    "                    if(len(j)<= 2 or j==\"com\"):\n",
    "                        continue\n",
    "                    else:\n",
    "                        final_list.append(j)\n",
    "            preprocessed_emails.append(\" \".join(final_list))\n",
    "            st=' '\n",
    "            final_text+= st +\" \".join(final_list)\n",
    "        \n",
    "        #replace_email=re.findall(r\"@[a-z0-9\\.\\-+_]+\\.[a-z]+\",filedata)\n",
    "        #for i in replace_email:\n",
    "            #filedata=filedata.replace(i,\" \")\n",
    "        \n",
    "        \n",
    "        f = re.sub(r'[\\w\\-\\.]+@[\\w\\.-]+\\b',' ',filedata)                      #replace email with space\n",
    "        f = re.sub(r'Subject.*$',\" \",f, flags=re.MULTILINE)            #replace subject with space\n",
    "        f = re.sub(r\"Write to:.*$\",\"\",f, flags=re.MULTILINE)           #replace write to with nothing \n",
    "        f = re.sub(r\"From:.*$\",\"\",f, flags=re.MULTILINE)\n",
    "        f = re.sub(r\"or:\",\"\",f,flags=re.MULTILINE)\n",
    "\n",
    "        f =re.sub(\"[\\(\\[].*?[\\)\\]]\", \"\", f)#remoce brackets\n",
    "        f = re.sub(r\".*:\",\"\",f, flags=re.MULTILINE)                    #delete Anyword:\n",
    "        \n",
    "        f = re.sub(r\"[\\t\\n\\-\\\\\\/]\",\" \",f) #delete /,-,/n,/t\n",
    "\n",
    "        f = re.sub(r\"won't\", \"will not\", f)\n",
    "        f = re.sub(r\"can\\'t\", \"can not\", f)\n",
    "        f = re.sub(r\"n\\'t\", \" not\", f)\n",
    "        f = re.sub(r\"\\'re\", \" are\", f)\n",
    "        f = re.sub(r\"\\'s\", \" is\", f)\n",
    "        f = re.sub(r\"\\'d\", \" would\", f)\n",
    "        f = re.sub(r\"\\'ll\", \" will\", f)\n",
    "        f = re.sub(r\"\\'t\", \" not\", f)\n",
    "        f = re.sub(r\"\\'ve\", \" have\", f)\n",
    "        f = re.sub(r\"\\'m\", \" am\", f)\n",
    "        chunking=[]\n",
    "        chunking==list(ne_chunk(pos_tag(word_tokenize(f))))\n",
    "        for c in chunking:\n",
    "            if type(c)==Tree:\n",
    "                if c.label()==\"GPE\":\n",
    "                    k=c.leaves()\n",
    "                    if len(k)>1:\n",
    "                        gpe = \"_\".join([term for term,pos in k])\n",
    "\n",
    "                        f = re.sub(rf'{k[1][0]}',gpe,f, flags=re.MULTILINE)  #replacing york with] new_york\n",
    "                        f = re.sub(rf'\\b{k[0][0]}\\b',\"\",f, flags=re.MULTILINE) #deleting new,  \\b is important\n",
    "\n",
    "                if c.label()==\"PERSON\":                                         #removing person\n",
    "                    for term,pog in c.leaves():\n",
    "                        f = re.sub(re.escape(term),\"\",f, flags=re.MULTILINE)\n",
    "                    \n",
    "\n",
    "        f = re.sub(r'\\d',\"\",f)\n",
    "        f = re.sub(r\"\\b_([a-zA-z]+)_\\b\",r\"\\1\",f)                                 #replace _word_ to word\n",
    "        f = re.sub(r\"\\b_([a-zA-z]+)\\b\",r\"\\1\",f)                                  #replace_word to word\n",
    "        f = re.sub(r\"\\b([a-zA-z]+)_\\b\",r\"\\1\",f)                                  #replace word_ to word\n",
    "        f = re.sub(r\"\\b[a-zA-Z]{1}_([a-zA-Z]+)\",r\"\\1\",f)                         #d_berlin to berlin\n",
    "        f = re.sub(r\"\\b[a-zA-Z]{2}_([a-zA-Z]+)\",r\"\\1\",f)                         #mr_cat to cat\n",
    "        f = f.lower() \n",
    "        f = re.sub(r'\\b\\w{1,2}\\b',\" \",f)                                         #remove words <2\n",
    "        f = re.sub(r\"\\b\\w{15,}\\b\",\" \",f)   \n",
    "   \n",
    "        f=re.sub(r\"[^a-zA-Z_]\",\" \",f)\n",
    "        f = re.sub(r\" {2,}\", \" \", f)\n",
    "        f= re.sub(r'\\b\\w{1,2}\\b', '', f)\n",
    "        # REMOVE THE EXTRA SPACES\n",
    "        preprocessed_text.append(f)\n",
    "        final_text+=f\n",
    "        finaltext.append(final_text)\n",
    "        \n",
    "    return label,file,subject,preprocessed_text,preprocessed_emails,finaltext,c\n",
    "        \n",
    "        \n",
    "label,file,subject,preprocessed_text,preprocessed_email,finaltext,c=data_preprocessing(dir_path,files,c=0)\n",
    "        \n",
    "          \n",
    "                    "
   ]
  },
  {
   "cell_type": "code",
   "execution_count": 11,
   "metadata": {},
   "outputs": [],
   "source": [
    "data=pd.DataFrame()\n",
    "data[\"class\"]=label\n",
    "data['text']=preprocessed_text\n",
    "data['email']=preprocessed_email\n",
    "data['file']=file\n",
    "data['subject']=subject\n",
    "data[\"final_text\"]=finaltext\n",
    "\n"
   ]
  },
  {
   "cell_type": "code",
   "execution_count": 12,
   "metadata": {},
   "outputs": [
    {
     "data": {
      "text/plain": [
       "0         0\n",
       "1         0\n",
       "2         0\n",
       "3         0\n",
       "4         0\n",
       "         ..\n",
       "18823    19\n",
       "18824    19\n",
       "18825    19\n",
       "18826    19\n",
       "18827    19\n",
       "Name: class, Length: 18828, dtype: int32"
      ]
     },
     "execution_count": 12,
     "metadata": {},
     "output_type": "execute_result"
    }
   ],
   "source": [
    "label_encoder = preprocessing.LabelEncoder() \n",
    "data['class']=label_encoder.fit_transform(data['class'])\n",
    "data['class']"
   ]
  },
  {
   "cell_type": "code",
   "execution_count": null,
   "metadata": {},
   "outputs": [],
   "source": []
  },
  {
   "cell_type": "code",
   "execution_count": 13,
   "metadata": {},
   "outputs": [],
   "source": [
    "X=data[\"final_text\"]\n",
    "Y=data[\"class\"]\n",
    "from sklearn.model_selection import train_test_split\n",
    "x_train, x_test, y_train, y_test = train_test_split(X,Y, test_size=0.25, stratify=Y)"
   ]
  },
  {
   "cell_type": "code",
   "execution_count": 33,
   "metadata": {},
   "outputs": [],
   "source": [
    "t = Tokenizer(filters='!\"#$%&()*+,-./:;<=>?@[\\\\]^`{|}~\\t\\n')  #removing underscore from filters\n",
    "t.fit_on_texts(x_train)\n",
    "voc=len(t.word_index) +1\n",
    "encode_train = t.texts_to_sequences(x_train)\n",
    "encode_test = t.texts_to_sequences(x_test)\n"
   ]
  },
  {
   "cell_type": "code",
   "execution_count": 34,
   "metadata": {},
   "outputs": [
    {
     "data": {
      "text/plain": [
       "8876"
      ]
     },
     "execution_count": 34,
     "metadata": {},
     "output_type": "execute_result"
    }
   ],
   "source": [
    "maxx=0\n",
    "for i in encode_train:\n",
    "    if len(i)>maxx:\n",
    "        maxx = len(i)\n",
    "maxx                              #this is now the length of each document in our corpus"
   ]
  },
  {
   "cell_type": "code",
   "execution_count": 35,
   "metadata": {},
   "outputs": [
    {
     "name": "stdout",
     "output_type": "stream",
     "text": [
      "[[  709  1951 26296 ...     0     0     0]\n",
      " [  965   797   297 ...     0     0     0]\n",
      " [ 2627  5076  2175 ...     0     0     0]\n",
      " ...\n",
      " [  518  9704   377 ...     0     0     0]\n",
      " [  399   398     5 ...     0     0     0]\n",
      " [ 5791  2739     5 ...     0     0     0]]\n"
     ]
    },
    {
     "data": {
      "text/plain": [
       "array([[  773,   214,  1403, ...,     0,     0,     0],\n",
       "       [ 5442,  2600,    10, ...,     0,     0,     0],\n",
       "       [ 4596,  1479,    26, ...,     0,     0,     0],\n",
       "       ...,\n",
       "       [ 1753,  2076, 53913, ...,     0,     0,     0],\n",
       "       [11501,  2093,  1299, ...,     0,     0,     0],\n",
       "       [  967,  4548, 41764, ...,     0,     0,     0]])"
      ]
     },
     "execution_count": 35,
     "metadata": {},
     "output_type": "execute_result"
    }
   ],
   "source": [
    "padded_text_train = pad_sequences(encode_train, maxlen=maxx, padding='post')\n",
    "print(padded_text_train)\n",
    "\n",
    "padded_text_test = pad_sequences(encode_test, maxlen=maxx, padding='post')\n",
    "padded_text_test"
   ]
  },
  {
   "cell_type": "code",
   "execution_count": 14,
   "metadata": {},
   "outputs": [
    {
     "data": {
      "text/plain": [
       "array([[0., 0., 0., ..., 0., 0., 0.],\n",
       "       [0., 0., 0., ..., 0., 0., 0.],\n",
       "       [0., 0., 0., ..., 0., 0., 0.],\n",
       "       ...,\n",
       "       [0., 0., 0., ..., 0., 0., 0.],\n",
       "       [0., 0., 0., ..., 0., 0., 0.],\n",
       "       [0., 0., 0., ..., 0., 0., 0.]], dtype=float32)"
      ]
     },
     "execution_count": 14,
     "metadata": {},
     "output_type": "execute_result"
    }
   ],
   "source": [
    "train_class = to_categorical(y_train)\n",
    "train_class"
   ]
  },
  {
   "cell_type": "code",
   "execution_count": 15,
   "metadata": {},
   "outputs": [
    {
     "data": {
      "text/plain": [
       "array([[0., 0., 0., ..., 0., 0., 0.],\n",
       "       [0., 0., 0., ..., 1., 0., 0.],\n",
       "       [0., 0., 0., ..., 0., 0., 0.],\n",
       "       ...,\n",
       "       [0., 0., 0., ..., 0., 0., 0.],\n",
       "       [0., 0., 0., ..., 0., 0., 0.],\n",
       "       [0., 0., 0., ..., 0., 0., 0.]], dtype=float32)"
      ]
     },
     "execution_count": 15,
     "metadata": {},
     "output_type": "execute_result"
    }
   ],
   "source": [
    "test_class = to_categorical(y_test)\n",
    "test_class"
   ]
  },
  {
   "cell_type": "code",
   "execution_count": 50,
   "metadata": {},
   "outputs": [
    {
     "name": "stdout",
     "output_type": "stream",
     "text": [
      "Loaded 400000 word vectors.\n"
     ]
    }
   ],
   "source": [
    "embeddings_index = dict()\n",
    "glov = open('glove.6B.300d.txt.txt', encoding='utf8')\n",
    "for line in glov:\n",
    "    values = line.split()\n",
    "    word = values[0]\n",
    "    coefs = np.asarray(values[1:], dtype='float32')\n",
    "    embeddings_index[word] = coefs\n",
    "glov.close()\n",
    "print('Loaded %s word vectors.' % len(embeddings_index))"
   ]
  },
  {
   "cell_type": "code",
   "execution_count": 51,
   "metadata": {},
   "outputs": [],
   "source": [
    "embedding_matrix_train = np.zeros((voc, 300))\n",
    "for word, i in t.word_index.items():\n",
    "    embedding_vector_train = embeddings_index.get(word)\n",
    "    if embedding_vector_train is not None:\n",
    "        embedding_matrix_train[i] = embedding_vector_train"
   ]
  },
  {
   "cell_type": "code",
   "execution_count": 54,
   "metadata": {},
   "outputs": [
    {
     "name": "stdout",
     "output_type": "stream",
     "text": [
      "Model: \"model\"\n",
      "__________________________________________________________________________________________________\n",
      "Layer (type)                    Output Shape         Param #     Connected to                     \n",
      "==================================================================================================\n",
      "input_1 (InputLayer)            [(None, 8876)]       0                                            \n",
      "__________________________________________________________________________________________________\n",
      "embedding (Embedding)           (None, 8876, 300)    24923400    input_1[0][0]                    \n",
      "__________________________________________________________________________________________________\n",
      "conv1d (Conv1D)                 (None, 8868, 16)     43216       embedding[0][0]                  \n",
      "__________________________________________________________________________________________________\n",
      "conv1d_1 (Conv1D)               (None, 8871, 16)     28816       embedding[0][0]                  \n",
      "__________________________________________________________________________________________________\n",
      "conv1d_2 (Conv1D)               (None, 8874, 16)     14416       embedding[0][0]                  \n",
      "__________________________________________________________________________________________________\n",
      "concatenate (Concatenate)       (None, 26613, 16)    0           conv1d[0][0]                     \n",
      "                                                                 conv1d_1[0][0]                   \n",
      "                                                                 conv1d_2[0][0]                   \n",
      "__________________________________________________________________________________________________\n",
      "max_pooling1d (MaxPooling1D)    (None, 6653, 16)     0           concatenate[0][0]                \n",
      "__________________________________________________________________________________________________\n",
      "conv1d_3 (Conv1D)               (None, 6646, 8)      1032        max_pooling1d[0][0]              \n",
      "__________________________________________________________________________________________________\n",
      "conv1d_4 (Conv1D)               (None, 6650, 8)      520         max_pooling1d[0][0]              \n",
      "__________________________________________________________________________________________________\n",
      "conv1d_5 (Conv1D)               (None, 6652, 8)      264         max_pooling1d[0][0]              \n",
      "__________________________________________________________________________________________________\n",
      "concatenate_1 (Concatenate)     (None, 19948, 8)     0           conv1d_3[0][0]                   \n",
      "                                                                 conv1d_4[0][0]                   \n",
      "                                                                 conv1d_5[0][0]                   \n",
      "__________________________________________________________________________________________________\n",
      "max_pooling1d_1 (MaxPooling1D)  (None, 9974, 8)      0           concatenate_1[0][0]              \n",
      "__________________________________________________________________________________________________\n",
      "conv1d_6 (Conv1D)               (None, 9970, 8)      328         max_pooling1d_1[0][0]            \n",
      "__________________________________________________________________________________________________\n",
      "flatten (Flatten)               (None, 79760)        0           conv1d_6[0][0]                   \n",
      "__________________________________________________________________________________________________\n",
      "dropout (Dropout)               (None, 79760)        0           flatten[0][0]                    \n",
      "__________________________________________________________________________________________________\n",
      "dense (Dense)                   (None, 10)           797610      dropout[0][0]                    \n",
      "__________________________________________________________________________________________________\n",
      "dense_1 (Dense)                 (None, 20)           220         dense[0][0]                      \n",
      "==================================================================================================\n",
      "Total params: 25,809,822\n",
      "Trainable params: 886,422\n",
      "Non-trainable params: 24,923,400\n",
      "__________________________________________________________________________________________________\n",
      "None\n"
     ]
    }
   ],
   "source": [
    "\n",
    "#embedding layer\n",
    "embedd = Embedding(voc, 300, weights=[embedding_matrix_train], input_length=maxx, trainable=False)(i_layer)\n",
    "\n",
    "#convolution 1D layer\n",
    "conv1 = Coi_layer= Input(shape=(maxx,)) \n",
    "nv1D(16, kernel_size=9, activation='relu')(embedd)\n",
    "conv2 = Conv1D(16, kernel_size=6, activation='relu')(embedd)\n",
    "conv3 = Conv1D(16, kernel_size=3, activation='relu')(embedd)\n",
    "\n",
    "#concatenate the convolution layers\n",
    "concate1 = concatenate([conv1, conv2, conv3], axis=1)   #since axis 1 will have different values\n",
    "\n",
    "#maxpool 1d layer\n",
    "maxpool1 = MaxPooling1D(pool_size=4)(concate1)\n",
    "\n",
    "#convlution layer 1D\n",
    "conv4 = Conv1D(8, kernel_size=8, activation='relu')(maxpool1)\n",
    "conv5 = Conv1D(8, kernel_size=4, activation='relu')(maxpool1)\n",
    "conv6 = Conv1D(8, kernel_size=2, activation='relu')(maxpool1)\n",
    "\n",
    "#concatenate the convolution layers\n",
    "concate2 = concatenate([conv4,conv5, conv6], axis=1)\n",
    "\n",
    "#maxpool 1d layer\n",
    "maxpool2 = MaxPooling1D(pool_size=2)(concate2)\n",
    "\n",
    "#convolution 1D layer\n",
    "conv7 =  Conv1D(8, kernel_size=5, activation='relu')(maxpool2)\n",
    "\n",
    "#flatten\n",
    "flat = Flatten()(conv7)\n",
    "\n",
    "#dropout\n",
    "drop = Dropout(0.5)(flat)\n",
    "#dense\n",
    "dense = Dense(10, activation='relu')(drop)\n",
    "\n",
    "#output layer\n",
    "o_layer = Dense(20, activation='softmax')(dense)\n",
    "\n",
    "#define the mode\n",
    "model = Model(inputs=i_layer, outputs=o_layer)\n",
    "\n",
    "#compile the model\n",
    "model.compile(optimizer='adam', loss='categorical_crossentropy', metrics=['accuracy'])\n",
    "\n",
    "#summarize the model\n",
    "print(model.summary())"
   ]
  },
  {
   "cell_type": "code",
   "execution_count": null,
   "metadata": {},
   "outputs": [],
   "source": []
  },
  {
   "cell_type": "code",
   "execution_count": null,
   "metadata": {},
   "outputs": [],
   "source": []
  },
  {
   "cell_type": "code",
   "execution_count": 55,
   "metadata": {},
   "outputs": [],
   "source": [
    "import datetime \n",
    "#tensorboard callback\n",
    "log_dir=\"logs/fit/\" + datetime.datetime.now().strftime(\"%Y%m%d-%H%M%S\") #dirctory according to time\n",
    "tfboard_callback = tf.keras.callbacks.TensorBoard(log_dir=log_dir, histogram_freq=1,write_graph=True)\n",
    "\n",
    "#early stopping callback\n",
    "es_callback = tf.keras.callbacks.EarlyStopping(monitor='val_loss', mode='min', patience=5)\n",
    "\n",
    "#modelcheckpoint callback to save the best model \n",
    "filepath = 'weights.{epoch:02d}-{val_loss:.2f}.hdf5'    #saves in the name of epoch and val_loss\n",
    "chk_callback = tf.keras.callbacks.ModelCheckpoint(filepath,monitor='val_loss', mode='min',\n",
    "                                                 save_best_only=True, save_weights_only=True)"
   ]
  },
  {
   "cell_type": "code",
   "execution_count": 60,
   "metadata": {},
   "outputs": [
    {
     "name": "stdout",
     "output_type": "stream",
     "text": [
      "Epoch 1/10\n",
      "442/442 [==============================] - 1751s 4s/step - loss: 2.8508 - accuracy: 0.0982 - val_loss: 2.7258 - val_accuracy: 0.1130\n",
      "Epoch 2/10\n",
      "442/442 [==============================] - 1770s 4s/step - loss: 2.6648 - accuracy: 0.1197 - val_loss: 2.5517 - val_accuracy: 0.1470\n",
      "Epoch 3/10\n",
      "442/442 [==============================] - 1757s 4s/step - loss: 2.3368 - accuracy: 0.1753 - val_loss: 2.1658 - val_accuracy: 0.2428\n",
      "Epoch 4/10\n",
      "442/442 [==============================] - 1837s 4s/step - loss: 1.8909 - accuracy: 0.3213 - val_loss: 1.7520 - val_accuracy: 0.4105\n",
      "Epoch 5/10\n",
      "442/442 [==============================] - 1363s 3s/step - loss: 1.5520 - accuracy: 0.4473 - val_loss: 1.5003 - val_accuracy: 0.4631\n",
      "Epoch 6/10\n",
      "442/442 [==============================] - 1343s 3s/step - loss: 1.1823 - accuracy: 0.5481 - val_loss: 1.2834 - val_accuracy: 0.5581\n",
      "Epoch 7/10\n",
      "442/442 [==============================] - 1266s 3s/step - loss: 0.9258 - accuracy: 0.6370 - val_loss: 1.1504 - val_accuracy: 0.6178\n",
      "Epoch 8/10\n",
      "442/442 [==============================] - 1267s 3s/step - loss: 0.7774 - accuracy: 0.6978 - val_loss: 1.1423 - val_accuracy: 0.6439\n",
      "Epoch 9/10\n",
      "442/442 [==============================] - 1424s 3s/step - loss: 0.6573 - accuracy: 0.7408 - val_loss: 1.1230 - val_accuracy: 0.6601\n",
      "Epoch 10/10\n",
      "442/442 [==============================] - 1375s 3s/step - loss: 0.5869 - accuracy: 0.7703 - val_loss: 1.1370 - val_accuracy: 0.6790\n"
     ]
    },
    {
     "data": {
      "text/plain": [
       "<tensorflow.python.keras.callbacks.History at 0x17add894fc8>"
      ]
     },
     "execution_count": 60,
     "metadata": {},
     "output_type": "execute_result"
    }
   ],
   "source": [
    "model.fit(padded_text_train,train_class, epochs=10, validation_data=(padded_text_test,test_class), \n",
    "         callbacks=[tfboard_callback, es_callback, chk_callback])"
   ]
  },
  {
   "cell_type": "code",
   "execution_count": null,
   "metadata": {},
   "outputs": [],
   "source": []
  },
  {
   "cell_type": "code",
   "execution_count": 18,
   "metadata": {},
   "outputs": [],
   "source": [
    "train_text=x_train.values\n",
    "tk=Tokenizer(num_words=None,char_level=True,oov_token=\"UNK\")\n",
    "tk.fit_on_texts(texts)\n",
    "test_text=x_test.values\n",
    "train_texts = [s.lower() for s in train_text] \n",
    "test_texts = [s.lower() for s in test_text] \n"
   ]
  },
  {
   "cell_type": "code",
   "execution_count": 28,
   "metadata": {},
   "outputs": [
    {
     "data": {
      "text/plain": [
       "30"
      ]
     },
     "execution_count": 28,
     "metadata": {},
     "output_type": "execute_result"
    }
   ],
   "source": [
    "vc=len(tk.word_index) +1\n",
    "vc"
   ]
  },
  {
   "cell_type": "code",
   "execution_count": 20,
   "metadata": {},
   "outputs": [],
   "source": [
    "alpha='abcdefghijklmnopqrstuvwxyz_-'\n",
    "char_dict = {}\n",
    "for i, char in enumerate(alpha):\n",
    "    char_dict[char] = i + 1\n",
    "    \n",
    "# Use char_dict to replace the tk.word_index\n",
    "tk.word_index = char_dict \n",
    "# Add 'UNK' to the vocabulary \n",
    "tk.word_index[tk.oov_token] = max(char_dict.values()) + 1"
   ]
  },
  {
   "cell_type": "code",
   "execution_count": 21,
   "metadata": {},
   "outputs": [],
   "source": [
    "train_seq = tk.texts_to_sequences(train_texts)\n",
    "test_seq = tk.texts_to_sequences(test_texts)\n",
    "train_data = pad_sequences(train_seq, maxlen=8876, padding='post')\n",
    "test_data = pad_sequences(test_seq, maxlen=8876, padding='post')\n",
    "train_data = np.array(train_data)\n",
    "test_data = np.array(test_data)\n"
   ]
  },
  {
   "cell_type": "code",
   "execution_count": 22,
   "metadata": {},
   "outputs": [
    {
     "data": {
      "text/plain": [
       "(14121, 8876)"
      ]
     },
     "execution_count": 22,
     "metadata": {},
     "output_type": "execute_result"
    }
   ],
   "source": [
    "train_data.shape"
   ]
  },
  {
   "cell_type": "code",
   "execution_count": 23,
   "metadata": {},
   "outputs": [
    {
     "data": {
      "text/plain": [
       "(4707, 8876)"
      ]
     },
     "execution_count": 23,
     "metadata": {},
     "output_type": "execute_result"
    }
   ],
   "source": [
    "test_data.shape"
   ]
  },
  {
   "cell_type": "code",
   "execution_count": 31,
   "metadata": {},
   "outputs": [
    {
     "name": "stdout",
     "output_type": "stream",
     "text": [
      "Model: \"model\"\n",
      "_________________________________________________________________\n",
      "Layer (type)                 Output Shape              Param #   \n",
      "=================================================================\n",
      "input_3 (InputLayer)         [(None, 8876)]            0         \n",
      "_________________________________________________________________\n",
      "embedding_1 (Embedding)      (None, 8876, 20)          600       \n",
      "_________________________________________________________________\n",
      "conv1d (Conv1D)              (None, 8868, 16)          2896      \n",
      "_________________________________________________________________\n",
      "conv1d_1 (Conv1D)            (None, 8863, 16)          1552      \n",
      "_________________________________________________________________\n",
      "max_pooling1d (MaxPooling1D) (None, 2215, 16)          0         \n",
      "_________________________________________________________________\n",
      "conv1d_2 (Conv1D)            (None, 2214, 8)           264       \n",
      "_________________________________________________________________\n",
      "conv1d_3 (Conv1D)            (None, 2210, 8)           328       \n",
      "_________________________________________________________________\n",
      "max_pooling1d_1 (MaxPooling1 (None, 1105, 8)           0         \n",
      "_________________________________________________________________\n",
      "flatten (Flatten)            (None, 8840)              0         \n",
      "_________________________________________________________________\n",
      "dropout (Dropout)            (None, 8840)              0         \n",
      "_________________________________________________________________\n",
      "dense (Dense)                (None, 10)                88410     \n",
      "_________________________________________________________________\n",
      "dense_1 (Dense)              (None, 20)                220       \n",
      "=================================================================\n",
      "Total params: 94,270\n",
      "Trainable params: 94,270\n",
      "Non-trainable params: 0\n",
      "_________________________________________________________________\n",
      "None\n"
     ]
    }
   ],
   "source": [
    "i_layer= Input(shape=(8876,))\n",
    "emb=Embedding(vc,20,input_length=8876,mask_zero=True)(i_layer)\n",
    "conv1 = Conv1D(16, kernel_size=9, activation='relu')(emb)\n",
    "conv2 = Conv1D(16, kernel_size=6, activation='relu')(conv1)\n",
    "maxpool1 = MaxPooling1D(pool_size=4)(conv2)\n",
    "conv3 = Conv1D(8, kernel_size=2, activation='relu')(maxpool1)\n",
    "conv4 =  Conv1D(8, kernel_size=5, activation='relu')(conv3)\n",
    "maxpool1 = MaxPooling1D(pool_size=2)(conv4)\n",
    "flat = Flatten()(maxpool1)\n",
    "drop = Dropout(0.5)(flat)\n",
    "\n",
    "dense = Dense(10, activation='relu')(drop)\n",
    "o_layer = Dense(20, activation='softmax')(dense)\n",
    "model = Model(inputs=i_layer, outputs=o_layer)\n",
    "model.compile(optimizer='adam', loss='categorical_crossentropy', metrics=['accuracy'])\n",
    "print(model.summary())\n",
    "\n",
    "\n",
    "\n"
   ]
  },
  {
   "cell_type": "code",
   "execution_count": 32,
   "metadata": {},
   "outputs": [],
   "source": [
    "import datetime \n",
    "#tensorboard callback\n",
    "log_dir=\"/content/drive/My Drive/logs/fit/\" + datetime.datetime.now().strftime(\"%Y%m%d-%H%M%S\") #dirctory according to time\n",
    "tfboard_callback = tf.keras.callbacks.TensorBoard(log_dir=log_dir, histogram_freq=1,write_graph=True)\n",
    "\n",
    "#early stopping callback\n",
    "es_callback = tf.keras.callbacks.EarlyStopping(monitor='val_loss', mode='min', patience=5)\n",
    "\n",
    "#modelcheckpoint callback to save the best model \n",
    "filepath = '/content/drive/My Drive/weights.{epoch:02d}-{val_loss:.2f}.hdf5'    #saves in the name of epoch and val_loss\n",
    "chk_callback = tf.keras.callbacks.ModelCheckpoint(filepath,monitor='val_loss', mode='min',\n",
    "                                                 save_best_only=True, save_weights_only=True)"
   ]
  },
  {
   "cell_type": "code",
   "execution_count": 33,
   "metadata": {},
   "outputs": [
    {
     "name": "stdout",
     "output_type": "stream",
     "text": [
      "Epoch 1/30\n",
      "442/442 [==============================] - 122s 276ms/step - loss: 2.9614 - accuracy: 0.0724 - val_loss: 2.9126 - val_accuracy: 0.0907\n",
      "Epoch 2/30\n",
      "442/442 [==============================] - 123s 278ms/step - loss: 2.8070 - accuracy: 0.1067 - val_loss: 2.6843 - val_accuracy: 0.1266\n",
      "Epoch 3/30\n",
      "442/442 [==============================] - 132s 298ms/step - loss: 2.6077 - accuracy: 0.1366 - val_loss: 2.5348 - val_accuracy: 0.1528\n",
      "Epoch 4/30\n",
      "442/442 [==============================] - 126s 285ms/step - loss: 2.5051 - accuracy: 0.1575 - val_loss: 2.5232 - val_accuracy: 0.1464\n",
      "Epoch 5/30\n",
      "442/442 [==============================] - 119s 269ms/step - loss: 2.4289 - accuracy: 0.1722 - val_loss: 2.4195 - val_accuracy: 0.1793\n",
      "Epoch 6/30\n",
      "442/442 [==============================] - 120s 272ms/step - loss: 2.3690 - accuracy: 0.1854 - val_loss: 2.5112 - val_accuracy: 0.1646\n",
      "Epoch 7/30\n",
      "442/442 [==============================] - 123s 277ms/step - loss: 2.3277 - accuracy: 0.1999 - val_loss: 2.4293 - val_accuracy: 0.1734\n",
      "Epoch 8/30\n",
      "442/442 [==============================] - 121s 274ms/step - loss: 2.2961 - accuracy: 0.2101 - val_loss: 2.3308 - val_accuracy: 0.2052\n",
      "Epoch 9/30\n",
      "442/442 [==============================] - 119s 270ms/step - loss: 2.2656 - accuracy: 0.2232 - val_loss: 2.3223 - val_accuracy: 0.2080\n",
      "Epoch 10/30\n",
      "442/442 [==============================] - 124s 281ms/step - loss: 2.2046 - accuracy: 0.2348 - val_loss: 2.4342 - val_accuracy: 0.1935\n",
      "Epoch 11/30\n",
      "442/442 [==============================] - 121s 273ms/step - loss: 2.1865 - accuracy: 0.2419 - val_loss: 2.6471 - val_accuracy: 0.1576\n",
      "Epoch 12/30\n",
      "442/442 [==============================] - 124s 281ms/step - loss: 2.1701 - accuracy: 0.2497 - val_loss: 2.3023 - val_accuracy: 0.2146\n",
      "Epoch 13/30\n",
      " 29/442 [>.............................] - ETA: 1:48 - loss: 2.1295 - accuracy: 0.2478"
     ]
    },
    {
     "ename": "KeyboardInterrupt",
     "evalue": "",
     "output_type": "error",
     "traceback": [
      "\u001b[1;31m---------------------------------------------------------------------------\u001b[0m",
      "\u001b[1;31mKeyboardInterrupt\u001b[0m                         Traceback (most recent call last)",
      "\u001b[1;32m<ipython-input-33-9eda9a9523e3>\u001b[0m in \u001b[0;36m<module>\u001b[1;34m\u001b[0m\n\u001b[0;32m      1\u001b[0m model.fit(train_data,train_class, epochs=30, validation_data=(test_data,test_class), \n\u001b[1;32m----> 2\u001b[1;33m          callbacks=[tfboard_callback, es_callback, chk_callback])\n\u001b[0m",
      "\u001b[1;32m~\\Anaconda3\\lib\\site-packages\\tensorflow\\python\\keras\\engine\\training.py\u001b[0m in \u001b[0;36m_method_wrapper\u001b[1;34m(self, *args, **kwargs)\u001b[0m\n\u001b[0;32m     64\u001b[0m   \u001b[1;32mdef\u001b[0m \u001b[0m_method_wrapper\u001b[0m\u001b[1;33m(\u001b[0m\u001b[0mself\u001b[0m\u001b[1;33m,\u001b[0m \u001b[1;33m*\u001b[0m\u001b[0margs\u001b[0m\u001b[1;33m,\u001b[0m \u001b[1;33m**\u001b[0m\u001b[0mkwargs\u001b[0m\u001b[1;33m)\u001b[0m\u001b[1;33m:\u001b[0m\u001b[1;33m\u001b[0m\u001b[1;33m\u001b[0m\u001b[0m\n\u001b[0;32m     65\u001b[0m     \u001b[1;32mif\u001b[0m \u001b[1;32mnot\u001b[0m \u001b[0mself\u001b[0m\u001b[1;33m.\u001b[0m\u001b[0m_in_multi_worker_mode\u001b[0m\u001b[1;33m(\u001b[0m\u001b[1;33m)\u001b[0m\u001b[1;33m:\u001b[0m  \u001b[1;31m# pylint: disable=protected-access\u001b[0m\u001b[1;33m\u001b[0m\u001b[1;33m\u001b[0m\u001b[0m\n\u001b[1;32m---> 66\u001b[1;33m       \u001b[1;32mreturn\u001b[0m \u001b[0mmethod\u001b[0m\u001b[1;33m(\u001b[0m\u001b[0mself\u001b[0m\u001b[1;33m,\u001b[0m \u001b[1;33m*\u001b[0m\u001b[0margs\u001b[0m\u001b[1;33m,\u001b[0m \u001b[1;33m**\u001b[0m\u001b[0mkwargs\u001b[0m\u001b[1;33m)\u001b[0m\u001b[1;33m\u001b[0m\u001b[1;33m\u001b[0m\u001b[0m\n\u001b[0m\u001b[0;32m     67\u001b[0m \u001b[1;33m\u001b[0m\u001b[0m\n\u001b[0;32m     68\u001b[0m     \u001b[1;31m# Running inside `run_distribute_coordinator` already.\u001b[0m\u001b[1;33m\u001b[0m\u001b[1;33m\u001b[0m\u001b[1;33m\u001b[0m\u001b[0m\n",
      "\u001b[1;32m~\\Anaconda3\\lib\\site-packages\\tensorflow\\python\\keras\\engine\\training.py\u001b[0m in \u001b[0;36mfit\u001b[1;34m(self, x, y, batch_size, epochs, verbose, callbacks, validation_split, validation_data, shuffle, class_weight, sample_weight, initial_epoch, steps_per_epoch, validation_steps, validation_batch_size, validation_freq, max_queue_size, workers, use_multiprocessing)\u001b[0m\n\u001b[0;32m    846\u001b[0m                 batch_size=batch_size):\n\u001b[0;32m    847\u001b[0m               \u001b[0mcallbacks\u001b[0m\u001b[1;33m.\u001b[0m\u001b[0mon_train_batch_begin\u001b[0m\u001b[1;33m(\u001b[0m\u001b[0mstep\u001b[0m\u001b[1;33m)\u001b[0m\u001b[1;33m\u001b[0m\u001b[1;33m\u001b[0m\u001b[0m\n\u001b[1;32m--> 848\u001b[1;33m               \u001b[0mtmp_logs\u001b[0m \u001b[1;33m=\u001b[0m \u001b[0mtrain_function\u001b[0m\u001b[1;33m(\u001b[0m\u001b[0miterator\u001b[0m\u001b[1;33m)\u001b[0m\u001b[1;33m\u001b[0m\u001b[1;33m\u001b[0m\u001b[0m\n\u001b[0m\u001b[0;32m    849\u001b[0m               \u001b[1;31m# Catch OutOfRangeError for Datasets of unknown size.\u001b[0m\u001b[1;33m\u001b[0m\u001b[1;33m\u001b[0m\u001b[1;33m\u001b[0m\u001b[0m\n\u001b[0;32m    850\u001b[0m               \u001b[1;31m# This blocks until the batch has finished executing.\u001b[0m\u001b[1;33m\u001b[0m\u001b[1;33m\u001b[0m\u001b[1;33m\u001b[0m\u001b[0m\n",
      "\u001b[1;32m~\\Anaconda3\\lib\\site-packages\\tensorflow\\python\\eager\\def_function.py\u001b[0m in \u001b[0;36m__call__\u001b[1;34m(self, *args, **kwds)\u001b[0m\n\u001b[0;32m    578\u001b[0m         \u001b[0mxla_context\u001b[0m\u001b[1;33m.\u001b[0m\u001b[0mExit\u001b[0m\u001b[1;33m(\u001b[0m\u001b[1;33m)\u001b[0m\u001b[1;33m\u001b[0m\u001b[1;33m\u001b[0m\u001b[0m\n\u001b[0;32m    579\u001b[0m     \u001b[1;32melse\u001b[0m\u001b[1;33m:\u001b[0m\u001b[1;33m\u001b[0m\u001b[1;33m\u001b[0m\u001b[0m\n\u001b[1;32m--> 580\u001b[1;33m       \u001b[0mresult\u001b[0m \u001b[1;33m=\u001b[0m \u001b[0mself\u001b[0m\u001b[1;33m.\u001b[0m\u001b[0m_call\u001b[0m\u001b[1;33m(\u001b[0m\u001b[1;33m*\u001b[0m\u001b[0margs\u001b[0m\u001b[1;33m,\u001b[0m \u001b[1;33m**\u001b[0m\u001b[0mkwds\u001b[0m\u001b[1;33m)\u001b[0m\u001b[1;33m\u001b[0m\u001b[1;33m\u001b[0m\u001b[0m\n\u001b[0m\u001b[0;32m    581\u001b[0m \u001b[1;33m\u001b[0m\u001b[0m\n\u001b[0;32m    582\u001b[0m     \u001b[1;32mif\u001b[0m \u001b[0mtracing_count\u001b[0m \u001b[1;33m==\u001b[0m \u001b[0mself\u001b[0m\u001b[1;33m.\u001b[0m\u001b[0m_get_tracing_count\u001b[0m\u001b[1;33m(\u001b[0m\u001b[1;33m)\u001b[0m\u001b[1;33m:\u001b[0m\u001b[1;33m\u001b[0m\u001b[1;33m\u001b[0m\u001b[0m\n",
      "\u001b[1;32m~\\Anaconda3\\lib\\site-packages\\tensorflow\\python\\eager\\def_function.py\u001b[0m in \u001b[0;36m_call\u001b[1;34m(self, *args, **kwds)\u001b[0m\n\u001b[0;32m    609\u001b[0m       \u001b[1;31m# In this case we have created variables on the first call, so we run the\u001b[0m\u001b[1;33m\u001b[0m\u001b[1;33m\u001b[0m\u001b[1;33m\u001b[0m\u001b[0m\n\u001b[0;32m    610\u001b[0m       \u001b[1;31m# defunned version which is guaranteed to never create variables.\u001b[0m\u001b[1;33m\u001b[0m\u001b[1;33m\u001b[0m\u001b[1;33m\u001b[0m\u001b[0m\n\u001b[1;32m--> 611\u001b[1;33m       \u001b[1;32mreturn\u001b[0m \u001b[0mself\u001b[0m\u001b[1;33m.\u001b[0m\u001b[0m_stateless_fn\u001b[0m\u001b[1;33m(\u001b[0m\u001b[1;33m*\u001b[0m\u001b[0margs\u001b[0m\u001b[1;33m,\u001b[0m \u001b[1;33m**\u001b[0m\u001b[0mkwds\u001b[0m\u001b[1;33m)\u001b[0m  \u001b[1;31m# pylint: disable=not-callable\u001b[0m\u001b[1;33m\u001b[0m\u001b[1;33m\u001b[0m\u001b[0m\n\u001b[0m\u001b[0;32m    612\u001b[0m     \u001b[1;32melif\u001b[0m \u001b[0mself\u001b[0m\u001b[1;33m.\u001b[0m\u001b[0m_stateful_fn\u001b[0m \u001b[1;32mis\u001b[0m \u001b[1;32mnot\u001b[0m \u001b[1;32mNone\u001b[0m\u001b[1;33m:\u001b[0m\u001b[1;33m\u001b[0m\u001b[1;33m\u001b[0m\u001b[0m\n\u001b[0;32m    613\u001b[0m       \u001b[1;31m# Release the lock early so that multiple threads can perform the call\u001b[0m\u001b[1;33m\u001b[0m\u001b[1;33m\u001b[0m\u001b[1;33m\u001b[0m\u001b[0m\n",
      "\u001b[1;32m~\\Anaconda3\\lib\\site-packages\\tensorflow\\python\\eager\\function.py\u001b[0m in \u001b[0;36m__call__\u001b[1;34m(self, *args, **kwargs)\u001b[0m\n\u001b[0;32m   2418\u001b[0m     \u001b[1;32mwith\u001b[0m \u001b[0mself\u001b[0m\u001b[1;33m.\u001b[0m\u001b[0m_lock\u001b[0m\u001b[1;33m:\u001b[0m\u001b[1;33m\u001b[0m\u001b[1;33m\u001b[0m\u001b[0m\n\u001b[0;32m   2419\u001b[0m       \u001b[0mgraph_function\u001b[0m\u001b[1;33m,\u001b[0m \u001b[0margs\u001b[0m\u001b[1;33m,\u001b[0m \u001b[0mkwargs\u001b[0m \u001b[1;33m=\u001b[0m \u001b[0mself\u001b[0m\u001b[1;33m.\u001b[0m\u001b[0m_maybe_define_function\u001b[0m\u001b[1;33m(\u001b[0m\u001b[0margs\u001b[0m\u001b[1;33m,\u001b[0m \u001b[0mkwargs\u001b[0m\u001b[1;33m)\u001b[0m\u001b[1;33m\u001b[0m\u001b[1;33m\u001b[0m\u001b[0m\n\u001b[1;32m-> 2420\u001b[1;33m     \u001b[1;32mreturn\u001b[0m \u001b[0mgraph_function\u001b[0m\u001b[1;33m.\u001b[0m\u001b[0m_filtered_call\u001b[0m\u001b[1;33m(\u001b[0m\u001b[0margs\u001b[0m\u001b[1;33m,\u001b[0m \u001b[0mkwargs\u001b[0m\u001b[1;33m)\u001b[0m  \u001b[1;31m# pylint: disable=protected-access\u001b[0m\u001b[1;33m\u001b[0m\u001b[1;33m\u001b[0m\u001b[0m\n\u001b[0m\u001b[0;32m   2421\u001b[0m \u001b[1;33m\u001b[0m\u001b[0m\n\u001b[0;32m   2422\u001b[0m   \u001b[1;33m@\u001b[0m\u001b[0mproperty\u001b[0m\u001b[1;33m\u001b[0m\u001b[1;33m\u001b[0m\u001b[0m\n",
      "\u001b[1;32m~\\Anaconda3\\lib\\site-packages\\tensorflow\\python\\eager\\function.py\u001b[0m in \u001b[0;36m_filtered_call\u001b[1;34m(self, args, kwargs)\u001b[0m\n\u001b[0;32m   1663\u001b[0m          if isinstance(t, (ops.Tensor,\n\u001b[0;32m   1664\u001b[0m                            resource_variable_ops.BaseResourceVariable))),\n\u001b[1;32m-> 1665\u001b[1;33m         self.captured_inputs)\n\u001b[0m\u001b[0;32m   1666\u001b[0m \u001b[1;33m\u001b[0m\u001b[0m\n\u001b[0;32m   1667\u001b[0m   \u001b[1;32mdef\u001b[0m \u001b[0m_call_flat\u001b[0m\u001b[1;33m(\u001b[0m\u001b[0mself\u001b[0m\u001b[1;33m,\u001b[0m \u001b[0margs\u001b[0m\u001b[1;33m,\u001b[0m \u001b[0mcaptured_inputs\u001b[0m\u001b[1;33m,\u001b[0m \u001b[0mcancellation_manager\u001b[0m\u001b[1;33m=\u001b[0m\u001b[1;32mNone\u001b[0m\u001b[1;33m)\u001b[0m\u001b[1;33m:\u001b[0m\u001b[1;33m\u001b[0m\u001b[1;33m\u001b[0m\u001b[0m\n",
      "\u001b[1;32m~\\Anaconda3\\lib\\site-packages\\tensorflow\\python\\eager\\function.py\u001b[0m in \u001b[0;36m_call_flat\u001b[1;34m(self, args, captured_inputs, cancellation_manager)\u001b[0m\n\u001b[0;32m   1744\u001b[0m       \u001b[1;31m# No tape is watching; skip to running the function.\u001b[0m\u001b[1;33m\u001b[0m\u001b[1;33m\u001b[0m\u001b[1;33m\u001b[0m\u001b[0m\n\u001b[0;32m   1745\u001b[0m       return self._build_call_outputs(self._inference_function.call(\n\u001b[1;32m-> 1746\u001b[1;33m           ctx, args, cancellation_manager=cancellation_manager))\n\u001b[0m\u001b[0;32m   1747\u001b[0m     forward_backward = self._select_forward_and_backward_functions(\n\u001b[0;32m   1748\u001b[0m         \u001b[0margs\u001b[0m\u001b[1;33m,\u001b[0m\u001b[1;33m\u001b[0m\u001b[1;33m\u001b[0m\u001b[0m\n",
      "\u001b[1;32m~\\Anaconda3\\lib\\site-packages\\tensorflow\\python\\eager\\function.py\u001b[0m in \u001b[0;36mcall\u001b[1;34m(self, ctx, args, cancellation_manager)\u001b[0m\n\u001b[0;32m    596\u001b[0m               \u001b[0minputs\u001b[0m\u001b[1;33m=\u001b[0m\u001b[0margs\u001b[0m\u001b[1;33m,\u001b[0m\u001b[1;33m\u001b[0m\u001b[1;33m\u001b[0m\u001b[0m\n\u001b[0;32m    597\u001b[0m               \u001b[0mattrs\u001b[0m\u001b[1;33m=\u001b[0m\u001b[0mattrs\u001b[0m\u001b[1;33m,\u001b[0m\u001b[1;33m\u001b[0m\u001b[1;33m\u001b[0m\u001b[0m\n\u001b[1;32m--> 598\u001b[1;33m               ctx=ctx)\n\u001b[0m\u001b[0;32m    599\u001b[0m         \u001b[1;32melse\u001b[0m\u001b[1;33m:\u001b[0m\u001b[1;33m\u001b[0m\u001b[1;33m\u001b[0m\u001b[0m\n\u001b[0;32m    600\u001b[0m           outputs = execute.execute_with_cancellation(\n",
      "\u001b[1;32m~\\Anaconda3\\lib\\site-packages\\tensorflow\\python\\eager\\execute.py\u001b[0m in \u001b[0;36mquick_execute\u001b[1;34m(op_name, num_outputs, inputs, attrs, ctx, name)\u001b[0m\n\u001b[0;32m     58\u001b[0m     \u001b[0mctx\u001b[0m\u001b[1;33m.\u001b[0m\u001b[0mensure_initialized\u001b[0m\u001b[1;33m(\u001b[0m\u001b[1;33m)\u001b[0m\u001b[1;33m\u001b[0m\u001b[1;33m\u001b[0m\u001b[0m\n\u001b[0;32m     59\u001b[0m     tensors = pywrap_tfe.TFE_Py_Execute(ctx._handle, device_name, op_name,\n\u001b[1;32m---> 60\u001b[1;33m                                         inputs, attrs, num_outputs)\n\u001b[0m\u001b[0;32m     61\u001b[0m   \u001b[1;32mexcept\u001b[0m \u001b[0mcore\u001b[0m\u001b[1;33m.\u001b[0m\u001b[0m_NotOkStatusException\u001b[0m \u001b[1;32mas\u001b[0m \u001b[0me\u001b[0m\u001b[1;33m:\u001b[0m\u001b[1;33m\u001b[0m\u001b[1;33m\u001b[0m\u001b[0m\n\u001b[0;32m     62\u001b[0m     \u001b[1;32mif\u001b[0m \u001b[0mname\u001b[0m \u001b[1;32mis\u001b[0m \u001b[1;32mnot\u001b[0m \u001b[1;32mNone\u001b[0m\u001b[1;33m:\u001b[0m\u001b[1;33m\u001b[0m\u001b[1;33m\u001b[0m\u001b[0m\n",
      "\u001b[1;31mKeyboardInterrupt\u001b[0m: "
     ]
    }
   ],
   "source": [
    "model.fit(train_data,train_class, epochs=30, validation_data=(test_data,test_class), \n",
    "         callbacks=[tfboard_callback, es_callback, chk_callback])"
   ]
  }
 ],
 "metadata": {
  "kernelspec": {
   "display_name": "Python 3",
   "language": "python",
   "name": "python3"
  },
  "language_info": {
   "codemirror_mode": {
    "name": "ipython",
    "version": 3
   },
   "file_extension": ".py",
   "mimetype": "text/x-python",
   "name": "python",
   "nbconvert_exporter": "python",
   "pygments_lexer": "ipython3",
   "version": "3.7.7"
  }
 },
 "nbformat": 4,
 "nbformat_minor": 4
}
