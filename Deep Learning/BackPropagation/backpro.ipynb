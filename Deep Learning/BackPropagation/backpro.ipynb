{
 "cells": [
  {
   "cell_type": "code",
   "execution_count": 1,
   "metadata": {},
   "outputs": [
    {
     "name": "stdout",
     "output_type": "stream",
     "text": [
      "(506, 6)\n",
      "(506, 5) (506,)\n"
     ]
    }
   ],
   "source": [
    "import pickle\n",
    "import math\n",
    "import numpy as np\n",
    "from tqdm import tqdm\n",
    "import matplotlib.pyplot as plt\n",
    "with open('data.pkl', 'rb') as f:\n",
    "    data = pickle.load(f)\n",
    "print(data.shape)\n",
    "X = data[:, :5]\n",
    "y = data[:, -1]\n",
    "print(X.shape, y.shape)"
   ]
  },
  {
   "cell_type": "code",
   "execution_count": null,
   "metadata": {},
   "outputs": [],
   "source": []
  },
  {
   "cell_type": "code",
   "execution_count": 2,
   "metadata": {},
   "outputs": [],
   "source": [
    "def sigmoid(z):\n",
    "    '''In this function, we will compute the sigmoid(z)'''\n",
    "    # we can use this function in forward and backward propagation\n",
    "\n",
    "    return (1/(1+math.exp(-z)))"
   ]
  },
  {
   "cell_type": "code",
   "execution_count": 3,
   "metadata": {},
   "outputs": [],
   "source": [
    "def forward_propagation(X, y, w):\n",
    "        part1=0.0\n",
    "        part3=0.0\n",
    "        part2=0.0\n",
    "        dl=0.0\n",
    "        loss=0.0\n",
    "        exp=0.0\n",
    "        d={}\n",
    "        if(X.shape[0]==5):\n",
    "            part1+=np.exp(((w[0]*X[0])+(w[1]*X[1]))**2 + w[5])\n",
    "            part2+=np.tanh(part1+w[6])\n",
    "            part3+=sigmoid(np.sin(w[2]*X[2])*((w[3]*X[3])+ (w[4]*X[4])) + w[7])\n",
    "            y_=part3*w[8]+ part2\n",
    "            loss=(y-y_)**2\n",
    "            dl2=-2*(y-y_)\n",
    "            d['dl']=dl2\n",
    "            d['loss']=loss\n",
    "            d['exp']=part1\n",
    "            d['tanh']=part2\n",
    "            d['sigmoid']=part3\n",
    "            return d\n",
    " \n",
    "            \n",
    "        '''In this function, we will compute the forward propagation '''\n",
    "        # X: input data point, note that in this assignment you are having 5-d data points\n",
    "        # y: output varible\n",
    "        # W: weight array, its of length 9, W[0] corresponds to w1 in graph, W[1] corresponds to w2 in graph,..., W[8] corresponds to w9 in graph.  \n",
    "        # you have to return the following variables\n",
    "        # exp= part1 (compute the forward propagation until exp and then store the values in exp)\n",
    "        # tanh =part2(compute the forward propagation until tanh and then store the values in tanh)\n",
    "        # sig = part3(compute the forward propagation until sigmoid and then store the values in sig)\n",
    "        # now compute remaining values from computional graph and get y'\n",
    "        # write code to compute the value of L=(y-y')^2\n",
    "        # compute derivative of L  w.r.to Y' and store it in dl\n",
    "        # Create a dictionary to store all the intermediate values\n",
    "        # store L, exp,tanh,sig variables\n",
    "        for i in (X):\n",
    "            part1=np.exp(((w[0]*i[0])+(w[1]*i[1]))**2 + w[5])\n",
    "            d['exp']=part1\n",
    "\n",
    "            part2=np.tanh(part1+w[6])\n",
    "            d['tanh']=part2\n",
    "\n",
    "            part3=sigmoid(np.sin(w[2]*i[2])*((w[3]*i[3])+ (w[4]*i[4])) + w[7])\n",
    "            d['sigmoid']=part3\n",
    "\n",
    "            y_=part3*w[8]+ part2\n",
    "            loss=(y-y_)**2\n",
    "            dl2=-2*(y-y_)\n",
    "            d['dl']=dl2\n",
    "            d['loss']=loss\n",
    "           \n",
    "        return d \n",
    "  \n"
   ]
  },
  {
   "cell_type": "code",
   "execution_count": null,
   "metadata": {},
   "outputs": [],
   "source": []
  },
  {
   "cell_type": "code",
   "execution_count": 4,
   "metadata": {},
   "outputs": [
    {
     "data": {
      "text/plain": [
       "True"
      ]
     },
     "execution_count": 4,
     "metadata": {},
     "output_type": "execute_result"
    }
   ],
   "source": [
    "def grader_sigmoid(z):\n",
    "    val=sigmoid(z)\n",
    "    assert(val==0.8807970779778823)\n",
    "    return True\n",
    "grader_sigmoid(2)\n"
   ]
  },
  {
   "cell_type": "code",
   "execution_count": 5,
   "metadata": {},
   "outputs": [
    {
     "data": {
      "text/plain": [
       "True"
      ]
     },
     "execution_count": 5,
     "metadata": {},
     "output_type": "execute_result"
    }
   ],
   "source": [
    "def grader_forwardprop(data):\n",
    "    dl = (np.round(data['dl'],4)==-1.9285)\n",
    "    loss=(np.round(data['loss'],4)==0.9298)\n",
    "    part1=(np.round(data['exp'],4)==1.1273)\n",
    "    part2=(np.round(data['tanh'],4)==0.8418)\n",
    "    part3=(np.round(data['sigmoid'],4)==0.5279)\n",
    "    assert(dl and loss and part1 and part2 and part3)\n",
    "    return True\n",
    "w=np.ones(9)*0.1\n",
    "d1=forward_propagation(X[0],y[0],w)\n",
    "grader_forwardprop(d1)"
   ]
  },
  {
   "cell_type": "code",
   "execution_count": 6,
   "metadata": {},
   "outputs": [],
   "source": [
    "def backward_propagation(i,w,d):\n",
    "    data={}\n",
    "    dw7=(d['dl'])*(1-np.tanh(d['exp']+w[6])**2)\n",
    "    dw9=d['dl']*d['sigmoid']\n",
    "    dw8=d['dl']*w[8]*(1-d['sigmoid'])*d['sigmoid']\n",
    "    dw6=d['dl']*(1-np.tanh(d['exp']+ w[6])**2)*d['exp']\n",
    "    dw1=d['dl']*(1-np.tanh(d['exp']+ w[6])**2)*d['exp']*2*((w[0]*i[0])+(w[1]*i[1]))*i[0]\n",
    "    dw2=dw1*i[1]/i[0]\n",
    "    dw3=d['dl']*w[8]*d['sigmoid']*(1-d['sigmoid'])*((w[3]*i[3])+(w[4]*i[4]))*i[2]*math.cos(w[2]*i[2])\n",
    "    dw4=d['dl']*w[8]*d['sigmoid']*(1-d['sigmoid'])*math.sin(w[2]*i[2])*i[3]\n",
    "    dw5=dw4*i[4]/i[3]\n",
    "    data['dw1']=dw1\n",
    "    data['dw2']=dw2\n",
    "    data['dw3']=dw3\n",
    "    data['dw4']=dw4\n",
    "    data['dw5']=dw5\n",
    "    data['dw6']=dw6\n",
    "    data['dw7']=dw7\n",
    "    data['dw8']=dw8\n",
    "    data['dw9']=dw9\n",
    "   \n",
    "    # dictionary: the outputs of the forward_propagation() function\n",
    "    # write code to compute the gradients of each weight [w1,w2,w3,...,w9]\n",
    "    # Hint: you can use dict type to store the required variables \n",
    "    # dw1 = # in dw1 compute derivative of L w.r.to w1\n",
    "    # dw2 = # in dw2 compute derivative of L w.r.to w2\n",
    "    # dw3 = # in dw3 compute derivative of L w.r.to w3\n",
    "    # dw4 = # in dw4 compute derivative of L w.r.to w4\n",
    "    # dw5 = # in dw5 compute derivative of L w.r.to w5\n",
    "    # dw6 = # in dw6 compute derivative of L w.r.to w6\n",
    "    # dw7 = # in dw7 compute derivative of L w.r.to w7\n",
    "    # dw8 = # in dw8 compute derivative of L w.r.to w8\n",
    "    # dw9 = # in dw9 compute derivative of L w.r.to w9\n",
    "    return data\n",
    "    # return dW, dW is a dictionary with gradients of all the weights"
   ]
  },
  {
   "cell_type": "code",
   "execution_count": 7,
   "metadata": {},
   "outputs": [
    {
     "data": {
      "text/plain": [
       "-0.22973323498702"
      ]
     },
     "execution_count": 7,
     "metadata": {},
     "output_type": "execute_result"
    }
   ],
   "source": [
    "def grader_backprop(data):\n",
    "    dw1=(np.round(data['dw1'],8)==-0.22973323)\n",
    "    dw2=(np.round(data['dw2'],8)==-0.02140761)\n",
    "    dw3=(np.round(data['dw3'],8)==-0.00562541)\n",
    "    dw4=(np.round(data['dw4'],8)==-0.00465794)\n",
    "    dw5=(np.round(data['dw5'],8)==-0.00100772)\n",
    "    dw6=(np.round(data['dw6'],8)==-0.63347519)\n",
    "    dw7=(np.round(data['dw7'],8)==-0.56194184)\n",
    "    dw8=(np.round(data['dw8'],8)==-0.04806288)\n",
    "    dw9=(np.round(data['dw9'],8)==-1.01810444)\n",
    "    assert(dw1 and dw2 and dw3 and dw4 and dw5 and dw6 and dw7 and dw8 and dw9)\n",
    "    return True \n",
    "w=np.ones(9)*0.1\n",
    "d1=forward_propagation(X[0],y[0],w)\n",
    "d1=backward_propagation(X[0],w,d1)\n",
    "grader_backprop(d1)\n",
    "list(d1.values())[0]"
   ]
  },
  {
   "cell_type": "code",
   "execution_count": 8,
   "metadata": {},
   "outputs": [],
   "source": [
    "def approx(i,y,w):\n",
    "    part1=np.exp(((w[0]*i[0])+(w[1]*i[1]))**2 + w[5])\n",
    "\n",
    "    part2=np.tanh(part1+w[6])\n",
    "\n",
    "    part3=sigmoid(np.sin(w[2]*i[2])*((w[3]*i[3])+ (w[4]*i[4])) + w[7])\n",
    "\n",
    "    y_=part3*w[8]+ part2\n",
    "    return y_\n",
    "    "
   ]
  },
  {
   "cell_type": "code",
   "execution_count": 63,
   "metadata": {},
   "outputs": [],
   "source": [
    "w = np.random.normal(0,0.1,size=9)\n",
    "def gradient_checking(x, w,y):\n",
    "    grad_check=[]\n",
    "    d1=forward_propagation(x,y,w)\n",
    "    dw=backward_propagation(x,w,d1)\n",
    "    grad=list(dw.values())\n",
    "    # compute the L value using forward_propagation()\n",
    "    # compute the gradients of W using backword_propagation()\n",
    "    approx_gradients = []\n",
    "    for i in range(len(w)):\n",
    "        epsilon=0.0001\n",
    "        w[i]+=epsilon\n",
    "        x2=approx(x,y,w)\n",
    "        d2=forward_propagation(x,y,w)\n",
    "        w[i]=w[i]-2*epsilon\n",
    "        x3=approx(x,y,w)\n",
    "        d3=forward_propagation(x,y,w)\n",
    "        w[i]+=epsilon\n",
    "        b3=backward_propagation(x,w,d3)\n",
    "        b2=list(b3.values())\n",
    "        dw_1=(d2['loss']-d3['loss'])/(2*epsilon)\n",
    "        num=np.linalg.norm(b2[i]-dw_1)\n",
    "        den=np.linalg.norm(b2[i])+np.linalg.norm(dw_1)\n",
    "        diff=num/den\n",
    "        if(diff < 1e-4):\n",
    "            print(\"gradient is correct :\",diff)\n",
    "        grad_check.append(diff)\n",
    "        w[i]=w[i]-epsilon\n",
    "        # add a small value to weight wi, and then find the values of L with the updated weights\n",
    "        # subtract a small value to weight wi, and then find the values of L with the updated weights\n",
    "        # compute the approximation gradients of weight wi\n",
    "    #for i in range(len(w)):\n",
    "     #   num=np.linalg.norm(grad[i]-approx_gradients[i])\n",
    "      #  den=np.linalg.norm(grad[i])+np.linalg.norm(approx_gradients[i])\n",
    "       # diff=num /den\n",
    "        ##grad_check.append(diff)\n",
    "        #if(diff > 1e-3):\n",
    "         #   print(\"gradient is incorrect \")\n",
    "    return grad_check"
   ]
  },
  {
   "cell_type": "code",
   "execution_count": 65,
   "metadata": {},
   "outputs": [
    {
     "name": "stdout",
     "output_type": "stream",
     "text": [
      "gradient is correct : 1.2379988421222557e-05\n",
      "gradient is correct : 1.1518373790157898e-06\n",
      "gradient is correct : 1.3852653819396647e-07\n",
      "gradient is correct : 1.1536344870001203e-07\n",
      "gradient is correct : 2.2556617699683614e-08\n",
      "gradient is correct : 5.518861439884728e-05\n",
      "gradient is correct : 1.717969350254176e-05\n",
      "gradient is correct : 1.8395974285581807e-06\n",
      "gradient is correct : 2.2897331840273502e-05\n"
     ]
    }
   ],
   "source": [
    "w = np.random.normal(0,0.1,size=9)\n",
    "g=gradient_checking(X[0],w,y[0])\n"
   ]
  },
  {
   "cell_type": "code",
   "execution_count": 11,
   "metadata": {},
   "outputs": [],
   "source": [
    "loss=[]\n",
    "learning_rate=0.0001\n",
    "for epoch in range(100):\n",
    "    for i in range(len(X)):\n",
    "        f1=forward_propagation(X[i],y[i],w)\n",
    "        dw=backward_propagation(X[i],w,f1)\n",
    "        w[0]=w[0]-learning_rate*dw['dw1']\n",
    "        w[1]=w[1]-learning_rate*dw['dw2']\n",
    "        w[2]=w[2]-learning_rate*dw['dw3']\n",
    "        w[3]=w[3]-learning_rate*dw['dw4']\n",
    "        w[4]=w[4]-learning_rate*dw['dw5']\n",
    "        w[5]=w[5]-learning_rate*dw['dw6']\n",
    "        w[6]=w[6]-learning_rate*dw['dw7']\n",
    "        w[7]=w[7]-learning_rate*dw['dw8']\n",
    "        w[8]=w[8]-learning_rate*dw['dw9']\n",
    "    loss.append(f1['loss'])\n",
    "\n",
    "        "
   ]
  },
  {
   "cell_type": "code",
   "execution_count": 12,
   "metadata": {},
   "outputs": [
    {
     "data": {
      "text/plain": [
       "Text(0, 0.5, 'loss')"
      ]
     },
     "execution_count": 12,
     "metadata": {},
     "output_type": "execute_result"
    },
    {
     "data": {
      "image/png": "[encoded data removed]",
      "text/plain": [
       "<Figure size 432x288 with 1 Axes>"
      ]
     },
     "metadata": {
      "needs_background": "light"
     },
     "output_type": "display_data"
    }
   ],
   "source": [
    "import matplotlib.pyplot as plt\n",
    "plt.plot(list(range(100)),loss)\n",
    "plt.xlabel(\"epochs\")\n",
    "plt.ylabel(\"loss\")"
   ]
  },
  {
   "cell_type": "code",
   "execution_count": 43,
   "metadata": {},
   "outputs": [],
   "source": [
    "beta=0.9\n",
    "v=[0]*9\n",
    "loss_2=[]\n",
    "learning_rate=0.0001\n",
    "for epoch in range(100):\n",
    "    for i in range(len(X)):\n",
    "        \n",
    "        f1=forward_propagation(X[i],y[i],w)\n",
    "        dw=backward_propagation(X[i],w,f1)\n",
    "        v[0]=beta*v[0]+ (1-beta)*dw['dw1']\n",
    "        w[0]=w[0]-learning_rate*v[0]\n",
    "        v[1]=beta*v[1] + (1-beta)*dw['dw2']\n",
    "\n",
    "        w[1]=w[1]-learning_rate*v[1]\n",
    "        v[2]=beta*v[2] + (1-beta)*dw['dw3']\n",
    "        w[2]=w[2]-learning_rate*v[2]\n",
    "        v[3]=beta*v[3] + (1-beta)*dw['dw4']\n",
    "\n",
    "        w[3]=w[3]-learning_rate*v[3]\n",
    "        v[4]=beta*v[4] + (1-beta)*dw['dw5']\n",
    "\n",
    "        w[4]=w[4]-learning_rate*v[4]\n",
    "        v[5]=beta*v[5] + (1-beta)*dw['dw6']\n",
    "\n",
    "        w[5]=w[5]-learning_rate*v[5]\n",
    "        v[6]=beta*v[6] + (1-beta)*dw['dw7']\n",
    "\n",
    "        w[6]=w[6]-learning_rate*v[6]\n",
    "        v[7]=beta*v[7] + (1-beta)*dw['dw8']\n",
    "\n",
    "        w[7]=w[7]-learning_rate*v[7]\n",
    "        v[8]=beta*v[8] + (1-beta)*dw['dw9']\n",
    "\n",
    "        w[8]=w[8]-learning_rate*v[8]\n",
    "    loss_2.append(f1['loss'])\n"
   ]
  },
  {
   "cell_type": "code",
   "execution_count": 44,
   "metadata": {},
   "outputs": [
    {
     "data": {
      "text/plain": [
       "Text(0, 0.5, 'loss')"
      ]
     },
     "execution_count": 44,
     "metadata": {},
     "output_type": "execute_result"
    },
    {
     "data": {
      "image/png": "[encoded data removed]",
      "text/plain": [
       "<Figure size 432x288 with 1 Axes>"
      ]
     },
     "metadata": {
      "needs_background": "light"
     },
     "output_type": "display_data"
    }
   ],
   "source": [
    "plt.plot(list(range(100)),loss_2)\n",
    "plt.xlabel(\"epochs\")\n",
    "plt.ylabel(\"loss\")"
   ]
  },
  {
   "cell_type": "code",
   "execution_count": 15,
   "metadata": {},
   "outputs": [],
   "source": [
    "mt=np.zeros(9)\n",
    "vt=np.zeros(9)\n",
    "beta1=0.9\n",
    "beta2=0.999\n",
    "epsilon=np.array([pow(10, -8)])\n",
    "loss_3=[]\n",
    "learning_rate=0.0001\n",
    "for epoch in range(100):\n",
    "    for i in range(len(X)):\n",
    "        f1=forward_propagation(X[i],y[i],w)\n",
    "        dw=backward_propagation(X[i],w,f1)\n",
    "        dw2=list(dw.values())\n",
    "        for j in range(len(w)):\n",
    "            mt[j]=beta1*mt[j] + (1-beta1)*dw2[j]\n",
    "            vt[j]=beta2*vt[j] + (1-beta2)*(dw2[j])**2\n",
    "            mt_=mt[j]/(1-pow(beta1,epoch+1))\n",
    "            vt_=vt[j]/(1-pow(beta1,epoch+1))\n",
    "            w[j]=w[j]- learning_rate*(mt_/(np.sqrt(vt_)+epsilon))\n",
    "            \n",
    "    loss_3.append(f1['loss'])\n",
    "\n",
    "        "
   ]
  },
  {
   "cell_type": "code",
   "execution_count": 16,
   "metadata": {},
   "outputs": [
    {
     "data": {
      "text/plain": [
       "Text(0, 0.5, 'loss')"
      ]
     },
     "execution_count": 16,
     "metadata": {},
     "output_type": "execute_result"
    },
    {
     "data": {
      "image/png": "[encoded data removed]",
      "text/plain": [
       "<Figure size 432x288 with 1 Axes>"
      ]
     },
     "metadata": {
      "needs_background": "light"
     },
     "output_type": "display_data"
    }
   ],
   "source": [
    "plt.plot(list(range(100)),loss_3)\n",
    "plt.xlabel(\"epochs\")\n",
    "plt.ylabel(\"loss\")"
   ]
  }
 ],
 "metadata": {
  "kernelspec": {
   "display_name": "Python 3 (ipykernel)",
   "language": "python",
   "name": "python3"
  },
  "language_info": {
   "codemirror_mode": {
    "name": "ipython",
    "version": 3
   },
   "file_extension": ".py",
   "mimetype": "text/x-python",
   "name": "python",
   "nbconvert_exporter": "python",
   "pygments_lexer": "ipython3",
   "version": "3.9.4"
  }
 },
 "nbformat": 4,
 "nbformat_minor": 4
}
