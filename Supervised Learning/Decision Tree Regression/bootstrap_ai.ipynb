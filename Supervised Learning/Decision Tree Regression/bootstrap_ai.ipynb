{
 "cells": [
  {
   "cell_type": "code",
   "execution_count": 34,
   "metadata": {},
   "outputs": [],
   "source": [
    "import numpy as np # importing numpy for numerical computation\n",
    "from sklearn.datasets import load_boston # here we are using sklearn's boston dataset\n",
    "from sklearn.metrics import mean_squared_error"
   ]
  },
  {
   "cell_type": "code",
   "execution_count": 35,
   "metadata": {},
   "outputs": [],
   "source": [
    "boston = load_boston()\n",
    "x=boston.data #independent variables\n",
    "y=boston.target #target variabl"
   ]
  },
  {
   "cell_type": "code",
   "execution_count": 36,
   "metadata": {},
   "outputs": [
    {
     "data": {
      "text/plain": [
       "(506, 13)"
      ]
     },
     "execution_count": 36,
     "metadata": {},
     "output_type": "execute_result"
    }
   ],
   "source": [
    "x.shape"
   ]
  },
  {
   "cell_type": "code",
   "execution_count": 37,
   "metadata": {},
   "outputs": [],
   "source": [
    "def generating_samples(input_data, target_data):\n",
    "    sampled_index=np.random.choice(len(input_data),303,replace=False) #sample index\n",
    "    rep_index=np.random.choice(sampled_index,203)#replicate index\n",
    "    k=np.random.randint(3,13,1) #select a column value between 3 and 13\n",
    "    select_col=np.random.randint(3,13,k) #select k random columns\n",
    "    sample_data=input_data[sampled_index[:,None],select_col]\n",
    "    target_sample=target_data[sampled_index]\n",
    "    rep_sample_data=input_data[rep_index[:,None],select_col]\n",
    "    target_rep_data=target_data[rep_index]\n",
    "    final_sample_data=np.vstack((sample_data,rep_sample_data))\n",
    "    final_target_data=np.vstack((target_sample.reshape(-1,1),target_rep_data.reshape(-1,1)))\n",
    "    return final_sample_data.tolist(),final_target_data.tolist(),sampled_index.tolist(),select_col.tolist()\n",
    "    \n",
    "    "
   ]
  },
  {
   "cell_type": "code",
   "execution_count": 38,
   "metadata": {},
   "outputs": [
    {
     "data": {
      "text/plain": [
       "True"
      ]
     },
     "execution_count": 38,
     "metadata": {},
     "output_type": "execute_result"
    }
   ],
   "source": [
    "def grader_samples(a,b,c,d):\n",
    "    length = (len(a)==506  and len(b)==506)\n",
    "    sampled = (len(a)-len(set([str(i) for i in a]))==203)\n",
    "    rows_length = (len(c)==303)\n",
    "    column_length= (len(d)>=3)\n",
    "    assert(length and sampled and rows_length and column_length)\n",
    "    return True\n",
    "list_input_data=[]\n",
    "list_output_data=[]\n",
    "list_selected_row=[]\n",
    "list_selected_columns=[]\n",
    "for i in range(0,30):\n",
    "    a,b,c,d = generating_samples(x, y)\n",
    "    list_input_data.append(a)\n",
    "    list_output_data.append(b)\n",
    "    list_selected_row.append(c)\n",
    "    list_selected_columns.append(d)\n",
    "grader_samples(a,b,c,d)\n"
   ]
  },
  {
   "cell_type": "code",
   "execution_count": 39,
   "metadata": {},
   "outputs": [
    {
     "data": {
      "text/plain": [
       "True"
      ]
     },
     "execution_count": 39,
     "metadata": {},
     "output_type": "execute_result"
    }
   ],
   "source": [
    "def grader_30(a):\n",
    "    assert(len(a)==30 and len(a[0])==506)\n",
    "    return True\n",
    "grader_30(list_input_data)"
   ]
  },
  {
   "cell_type": "code",
   "execution_count": 40,
   "metadata": {},
   "outputs": [],
   "source": [
    "from sklearn.tree import DecisionTreeRegressor #training 30 models on 30 samples\n",
    "list_of_all_models=[]\n",
    "for i in range(30):\n",
    "    model=DecisionTreeRegressor(max_depth=None)\n",
    "    model.fit(list_input_data[i],list_output_data[i])\n",
    "    list_of_all_models.append(model)\n"
   ]
  },
  {
   "cell_type": "code",
   "execution_count": 41,
   "metadata": {},
   "outputs": [],
   "source": [
    "def mse(x,y,list_of_all_models,list_selected_columns): #calculating mse value\n",
    "    y_predict=[] #\n",
    "    for i in x:\n",
    "        y_p=[]\n",
    "        for k in range(len(list_of_all_models)):\n",
    "            y_p.append(list_of_all_models[k].predict(i[list_selected_columns[k]].reshape(1,-1)))\n",
    "        y_predict.append(np.sum(y_p)/30)\n",
    "    me=0\n",
    "    for k in range(len(y)):\n",
    "        me=me+(y[k]-y_predict[k])**2\n",
    "    return me/len(x)"
   ]
  },
  {
   "cell_type": "code",
   "execution_count": 42,
   "metadata": {},
   "outputs": [],
   "source": [
    "def oob_score(x,y,list_of_all_models,list_selected_columns,list_selected_row): #calculating oob score value\n",
    "    y_pred=[]\n",
    "    for i in range(len(x)):\n",
    "        count=0\n",
    "        y_q=[]\n",
    "        for j in range(len(list_of_all_models)):\n",
    "            if i not in list_selected_row[j]:\n",
    "                count+=1\n",
    "                y_q.append(list_of_all_models[j].predict(x[i][list_selected_columns[j]].reshape(1,-1)))\n",
    "        y_pred.append(np.sum(y_q)/count)        \n",
    "    oob=0\n",
    "    for i in range(len(y)):\n",
    "        oob=oob+(y[i]-y_pred[i])**2\n",
    "    return (oob/len(x))\n",
    "    "
   ]
  },
  {
   "cell_type": "code",
   "execution_count": 43,
   "metadata": {},
   "outputs": [
    {
     "name": "stdout",
     "output_type": "stream",
     "text": [
      "oob score : 14.326215057586893\n",
      "mse score : 2.567669698302824\n"
     ]
    }
   ],
   "source": [
    "o=oob_score(x,y,list_of_all_models,list_selected_columns,list_selected_row)\n",
    "m=mse(x,y,list_of_all_models,list_selected_columns)\n",
    "print(\"oob score :\",o)\n",
    "print(\"mse score :\",m)\n"
   ]
  },
  {
   "cell_type": "code",
   "execution_count": 44,
   "metadata": {},
   "outputs": [],
   "source": [
    "ob=[]\n",
    "ms=[]\n",
    "for j in range(35):\n",
    "    list_input_data_2=[]\n",
    "    list_output_data_2=[]\n",
    "    list_selected_row_2=[]\n",
    "    list_selected_columns_2=[]\n",
    "    for i in range(0,30):\n",
    "        a,b,c,d = generating_samples(x, y)\n",
    "        list_input_data_2.append(a)\n",
    "        list_output_data_2.append(b)\n",
    "        list_selected_row_2.append(c)\n",
    "        list_selected_columns_2.append(d)\n",
    "    list_of_all_models_2=[]\n",
    "    for i in range(30):\n",
    "        model=DecisionTreeRegressor(max_depth=None)\n",
    "        model.fit(list_input_data_2[i],list_output_data_2[i])\n",
    "        list_of_all_models_2.append(model)\n",
    "    obx=(oob_score(x,y,list_of_all_models_2,list_selected_columns_2,list_selected_row_2))\n",
    "    mx=(mse(x,y,list_of_all_models_2,list_selected_columns_2))\n",
    "    ob.append(obx)\n",
    "    ms.append(mx)"
   ]
  },
  {
   "cell_type": "code",
   "execution_count": 45,
   "metadata": {},
   "outputs": [
    {
     "name": "stdout",
     "output_type": "stream",
     "text": [
      "oob C.I :[ 14.971249526565874 15.758424014573542 ]\n",
      "mse C.I :[ 2.5911626392301197 2.8245198983694633 ]\n"
     ]
    }
   ],
   "source": [
    "import numpy as np #confidence interval\n",
    "import scipy.stats \n",
    "def confidence_interval(data, confidence=0.95):#https://stackoverflow.com/questions/15033511/compute-a-confidence-interval-from-sample-data\n",
    "    a = 1.0 * np.array(data)\n",
    "    n = len(a)\n",
    "    m, se = np.mean(a), scipy.stats.sem(a)\n",
    "    h = se * scipy.stats.t.ppf((1 + confidence) / 2., n-1)\n",
    "    return m, m-h, m+h\n",
    "\n",
    "q,w,e=confidence_interval(np.array(ob),confidence=0.95)\n",
    "print(\"oob C.I :[\",w,e,\"]\")\n",
    "a,b,c=confidence_interval(np.array(ms),confidence=0.95)\n",
    "print(\"mse C.I :[\",b,c,\"]\")"
   ]
  },
  {
   "cell_type": "code",
   "execution_count": 50,
   "metadata": {},
   "outputs": [
    {
     "name": "stdout",
     "output_type": "stream",
     "text": [
      "House price : [20.869999999999997]\n"
     ]
    }
   ],
   "source": [
    "x_q=np.array([0.18,20.0,5.00,0.0,0.421,5.60,72.2,7.95,7.0,30.0,19.1,372.13,18.60]) #house price\n",
    "y_pe=[]\n",
    "y_pret=[]\n",
    "for k in range(len(list_of_all_models)):\n",
    "    y_pe.append(list_of_all_models[k].predict(x_q[list_selected_columns[k]].reshape(1,-1)))\n",
    "y_pret.append(np.sum(y_pe)/30)\n",
    "print(\"House price :\",y_pret)"
   ]
  },
  {
   "cell_type": "markdown",
   "metadata": {},
   "source": [
    "Task 1:\n",
    "    step 1: Performing row sampling and column sampling and due to this each model \n",
    "    will learn  different features.\n",
    "    step 2: models will be low bias and high variance .training models on the above data and finding MSE\n",
    "    step 3: datapoints left out of  a certain sample are trained as cv and finding oob score\n",
    "Task 2:\n",
    "    we get 35 mse and oob values and  finding their confidence interval of their means\n",
    "Task 3:\n",
    "    predicting value of house price\n",
    "    "
   ]
  }
 ],
 "metadata": {
  "kernelspec": {
   "display_name": "Python 3",
   "language": "python",
   "name": "python3"
  },
  "language_info": {
   "codemirror_mode": {
    "name": "ipython",
    "version": 3
   },
   "file_extension": ".py",
   "mimetype": "text/x-python",
   "name": "python",
   "nbconvert_exporter": "python",
   "pygments_lexer": "ipython3",
   "version": "3.7.6"
  }
 },
 "nbformat": 4,
 "nbformat_minor": 4
}
