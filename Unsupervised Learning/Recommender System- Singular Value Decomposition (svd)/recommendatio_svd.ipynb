{
 "cells": [
  {
   "cell_type": "code",
   "execution_count": 1,
   "metadata": {},
   "outputs": [
    {
     "data": {
      "text/plain": [
       "89992"
      ]
     },
     "execution_count": 1,
     "metadata": {},
     "output_type": "execute_result"
    }
   ],
   "source": [
    "import pandas as pd\n",
    "import numpy as np\n",
    "data=pd.read_csv('ratings_train.csv')\n",
    "len(data['rating'].isnull())"
   ]
  },
  {
   "cell_type": "code",
   "execution_count": 2,
   "metadata": {},
   "outputs": [
    {
     "name": "stdout",
     "output_type": "stream",
     "text": [
      "1662\n",
      "1680\n"
     ]
    }
   ],
   "source": [
    "print(len(data[\"item_id\"].unique()))\n",
    "print(max(data['item_id']))"
   ]
  },
  {
   "cell_type": "markdown",
   "metadata": {},
   "source": [
    "len(data[\"item_id\"].unique() gives 1662 and max(data['item_id']) gives 1680 meaning there are users who havent reviewed any movies and we have to predict ratings for them so adjacency matrix of shape (943,1681)"
   ]
  },
  {
   "cell_type": "code",
   "execution_count": 3,
   "metadata": {},
   "outputs": [],
   "source": [
    "from scipy.sparse import csr_matrix\n",
    "n=(data[\"user_id\"].unique().shape[0])\n",
    "m=max(data['item_id'])+1\n",
    "adjacency_matrix = np.zeros((n,m))\n",
    "for row in data.itertuples(index = False):\n",
    "    adjacency_matrix[row.user_id - 1, row.item_id - 1] = row.rating"
   ]
  },
  {
   "cell_type": "code",
   "execution_count": 4,
   "metadata": {},
   "outputs": [
    {
     "name": "stdout",
     "output_type": "stream",
     "text": [
      "0\n",
      "0\n"
     ]
    }
   ],
   "source": [
    "print(len(data[data['item_id'].isnull()]))\n",
    "print(len(data[data['user_id'].isnull()]))\n",
    "#no null values in the dataset"
   ]
  },
  {
   "cell_type": "code",
   "execution_count": null,
   "metadata": {},
   "outputs": [],
   "source": []
  },
  {
   "cell_type": "code",
   "execution_count": 5,
   "metadata": {},
   "outputs": [
    {
     "data": {
      "text/plain": [
       "True"
      ]
     },
     "execution_count": 5,
     "metadata": {},
     "output_type": "execute_result"
    }
   ],
   "source": [
    "def grader_matrix(matrix):\n",
    "    assert(matrix.shape==(943,1681))\n",
    "    return True\n",
    "grader_matrix(adjacency_matrix)"
   ]
  },
  {
   "cell_type": "code",
   "execution_count": 6,
   "metadata": {},
   "outputs": [
    {
     "name": "stdout",
     "output_type": "stream",
     "text": [
      "(943, 100)\n",
      "(100,)\n",
      "(1681, 100)\n"
     ]
    }
   ],
   "source": [
    "from sklearn.utils.extmath import randomized_svd\n",
    "import numpy as np \n",
    "U, Sigma, VT = randomized_svd(adjacency_matrix, n_components=100,n_iter=5, random_state=None)\n",
    "print(U.shape)\n",
    "print(Sigma.shape)\n",
    "print(VT.T.shape)"
   ]
  },
  {
   "cell_type": "code",
   "execution_count": 7,
   "metadata": {},
   "outputs": [
    {
     "name": "stdout",
     "output_type": "stream",
     "text": [
      "mean_rating 3.529480398257623\n"
     ]
    }
   ],
   "source": [
    "def m_u(ratings):\n",
    "    return np.mean(ratings)\n",
    "mu=m_u(data['rating'])\n",
    "print(\"mean_rating\",mu)"
   ]
  },
  {
   "cell_type": "code",
   "execution_count": 8,
   "metadata": {},
   "outputs": [
    {
     "data": {
      "text/plain": [
       "True"
      ]
     },
     "execution_count": 8,
     "metadata": {},
     "output_type": "execute_result"
    }
   ],
   "source": [
    "def grader_mean(mu):\n",
    "    assert(np.round(mu,3)==3.529)\n",
    "    return True\n",
    "mu=m_u(data['rating'])\n",
    "grader_mean(mu)"
   ]
  },
  {
   "cell_type": "code",
   "execution_count": null,
   "metadata": {},
   "outputs": [],
   "source": []
  },
  {
   "cell_type": "code",
   "execution_count": 9,
   "metadata": {},
   "outputs": [],
   "source": [
    "def initialize(dim):\n",
    "    '''In this function, we will initialize bias value 'B' and 'C'.'''\n",
    "    # initalize the value to zeros \n",
    "    # return output as a list of zeros \n",
    "    return np.zeros_like(dim)"
   ]
  },
  {
   "cell_type": "code",
   "execution_count": 10,
   "metadata": {},
   "outputs": [
    {
     "data": {
      "text/plain": [
       "943"
      ]
     },
     "execution_count": 10,
     "metadata": {},
     "output_type": "execute_result"
    }
   ],
   "source": [
    "dim= adjacency_matrix[:,0]# give the number of dimensions for b_i (Here b_i corresponds to users)\n",
    "b_i=initialize(dim)#initialize bias vector for each user\n",
    "len(b_i)"
   ]
  },
  {
   "cell_type": "code",
   "execution_count": 11,
   "metadata": {},
   "outputs": [
    {
     "data": {
      "text/plain": [
       "1681"
      ]
     },
     "execution_count": 11,
     "metadata": {},
     "output_type": "execute_result"
    }
   ],
   "source": [
    "dim= adjacency_matrix[0]# give the number of dimensions for c_j (Here c_j corresponds to movies)\n",
    "c_j=initialize(dim)#bias vector coresponding to movies\n",
    "len(c_j)"
   ]
  },
  {
   "cell_type": "code",
   "execution_count": 12,
   "metadata": {},
   "outputs": [
    {
     "data": {
      "text/plain": [
       "True"
      ]
     },
     "execution_count": 12,
     "metadata": {},
     "output_type": "execute_result"
    }
   ],
   "source": [
    "def grader_dim(b_i,c_j):\n",
    "    assert(len(b_i)==943 and np.sum(b_i)==0)\n",
    "    assert(len(c_j)==1681 and np.sum(c_j)==0)\n",
    "    return True\n",
    "grader_dim(b_i,c_j)"
   ]
  },
  {
   "cell_type": "code",
   "execution_count": 13,
   "metadata": {},
   "outputs": [],
   "source": [
    "def derivative_db(user_id,item_id,rating,U,V,mu,alpha):\n",
    "    '''In this function, we will compute dL/db_i'''\n",
    "    der_b=0\n",
    "    b=initialize(U[:,0])\n",
    "    c=initialize(V.T[:,0])\n",
    "    der_b=2*alpha*b[user_id-1] -2*(rating-mu-b[user_id-1]-c[item_id-1]-np.dot(U[user_id-1].T,V[:,item_id-1]))     \n",
    "    return der_b\n"
   ]
  },
  {
   "cell_type": "code",
   "execution_count": 14,
   "metadata": {},
   "outputs": [
    {
     "data": {
      "text/plain": [
       "True"
      ]
     },
     "execution_count": 14,
     "metadata": {},
     "output_type": "execute_result"
    }
   ],
   "source": [
    "def grader_db(value):\n",
    "    assert(np.round(value,3)==-0.931)\n",
    "    return True\n",
    "U1, Sigma, V1 = randomized_svd(adjacency_matrix, n_components=2,n_iter=5, random_state=24)\n",
    "# Please don't change random state\n",
    "# Here we are considering n_componets = 2 for our convinence\n",
    "alpha=0.01 \n",
    "value=derivative_db(312,98,4,U1,V1,mu,alpha)\n",
    "grader_db(value)"
   ]
  },
  {
   "cell_type": "code",
   "execution_count": 15,
   "metadata": {},
   "outputs": [],
   "source": [
    "def derivative_dc(user_id,item_id,rating,U,V,mu):\n",
    "    '''In this function, we will compute dL/dc_j'''\n",
    "    der_c=0\n",
    "    b=initialize(U[:,0])\n",
    "    c=initialize(V.T[:,0])\n",
    "    der_c=2*0.01*c[item_id-1] -2*(rating-mu-b[user_id-1]-c[item_id-1]-np.dot(U[user_id-1].T,V[:,item_id-1]))     \n",
    "    return der_c\n",
    "\n"
   ]
  },
  {
   "cell_type": "code",
   "execution_count": 16,
   "metadata": {},
   "outputs": [
    {
     "data": {
      "text/plain": [
       "True"
      ]
     },
     "execution_count": 16,
     "metadata": {},
     "output_type": "execute_result"
    }
   ],
   "source": [
    "def grader_dc(value):\n",
    "    assert(np.round(value,3)==-2.929)\n",
    "    return True\n",
    "U1, Sigma, V1 = randomized_svd(adjacency_matrix, n_components=2,n_iter=5, random_state=24)\n",
    "# Please don't change random state\n",
    "# Here we are considering n_componets = 2 for our convinence\n",
    "r=0.01 \n",
    "value=derivative_dc(58,504,5,U1,V1,mu)\n",
    "grader_dc(value)"
   ]
  },
  {
   "cell_type": "code",
   "execution_count": 17,
   "metadata": {},
   "outputs": [
    {
     "name": "stderr",
     "output_type": "stream",
     "text": [
      "100%|████████████████████████████████████████████████████████████████████████████████████| 5/5 [03:11<00:00, 38.22s/it]\n"
     ]
    }
   ],
   "source": [
    "from tqdm import tqdm\n",
    "n_epoch=5\n",
    "b=initialize(U[:,0])\n",
    "c=initialize(VT.T[:,0])\n",
    "user_id=data[\"user_id\"].tolist()\n",
    "item_id=data[\"item_id\"].tolist()\n",
    "rate=data[\"rating\"].tolist()\n",
    "for each in tqdm(range(n_epoch)):\n",
    "    for i in range(len(data)):\n",
    "        b[data[\"user_id\"][i]-1]+= -0.001*derivative_db(data[\"user_id\"][i],data[\"item_id\"][i],data[\"rating\"][i],U,VT,mu,alpha)\n",
    "\n",
    "        c[data[\"item_id\"][i]-1]+= -0.001*derivative_dc(data[\"user_id\"][i],data[\"item_id\"][i],data[\"rating\"][i],U,VT,mu)\n"
   ]
  },
  {
   "cell_type": "code",
   "execution_count": null,
   "metadata": {},
   "outputs": [],
   "source": []
  },
  {
   "cell_type": "code",
   "execution_count": null,
   "metadata": {},
   "outputs": [],
   "source": []
  },
  {
   "cell_type": "code",
   "execution_count": 18,
   "metadata": {},
   "outputs": [],
   "source": [
    "mse=0\n",
    "predicted=[]\n",
    "for i in range(len(data)):\n",
    "    y_predicted=mu+b[data[\"user_id\"][i]-1] + c[data[\"item_id\"][i]-1]+ np.dot(U[data[\"user_id\"][i]-1].T,VT[:,data[\"item_id\"][i]-1])\n",
    "    mse+=(y_predicted-data[\"rating\"][i])**2 #mse of predicted ratings\n",
    "    predicted.append(y_predicted)"
   ]
  },
  {
   "cell_type": "code",
   "execution_count": 19,
   "metadata": {},
   "outputs": [
    {
     "name": "stdout",
     "output_type": "stream",
     "text": [
      "mse of predicted ratings  2.295108722830065\n"
     ]
    }
   ],
   "source": [
    "print(\"mse of predicted ratings \",mse/len(data))"
   ]
  },
  {
   "cell_type": "code",
   "execution_count": 20,
   "metadata": {},
   "outputs": [
    {
     "name": "stdout",
     "output_type": "stream",
     "text": [
      "predicted rating\n"
     ]
    },
    {
     "data": {
      "text/plain": [
       "[3.0788533517790326,\n",
       " 4.451341194948581,\n",
       " 3.556957111826103,\n",
       " 3.902759622900678,\n",
       " 5.2110771106252125]"
      ]
     },
     "execution_count": 20,
     "metadata": {},
     "output_type": "execute_result"
    }
   ],
   "source": [
    "print(\"predicted rating\")\n",
    "predicted[:5]"
   ]
  },
  {
   "cell_type": "code",
   "execution_count": 21,
   "metadata": {},
   "outputs": [
    {
     "data": {
      "text/plain": [
       "0    3\n",
       "1    5\n",
       "2    4\n",
       "3    4\n",
       "4    5\n",
       "Name: rating, dtype: int64"
      ]
     },
     "execution_count": 21,
     "metadata": {},
     "output_type": "execute_result"
    }
   ],
   "source": [
    "data[\"rating\"][:5]"
   ]
  },
  {
   "cell_type": "code",
   "execution_count": 22,
   "metadata": {},
   "outputs": [],
   "source": [
    "#PROBLEM 2 PREDICTING SEX OF USER\n",
    "data_2=pd.read_csv('user_info.csv.txt')\n"
   ]
  },
  {
   "cell_type": "code",
   "execution_count": 23,
   "metadata": {},
   "outputs": [
    {
     "data": {
      "text/html": [
       "<div>\n",
       "<style scoped>\n",
       "    .dataframe tbody tr th:only-of-type {\n",
       "        vertical-align: middle;\n",
       "    }\n",
       "\n",
       "    .dataframe tbody tr th {\n",
       "        vertical-align: top;\n",
       "    }\n",
       "\n",
       "    .dataframe thead th {\n",
       "        text-align: right;\n",
       "    }\n",
       "</style>\n",
       "<table border=\"1\" class=\"dataframe\">\n",
       "  <thead>\n",
       "    <tr style=\"text-align: right;\">\n",
       "      <th></th>\n",
       "      <th>user_id</th>\n",
       "      <th>is_male</th>\n",
       "    </tr>\n",
       "  </thead>\n",
       "  <tbody>\n",
       "    <tr>\n",
       "      <th>0</th>\n",
       "      <td>0</td>\n",
       "      <td>1</td>\n",
       "    </tr>\n",
       "    <tr>\n",
       "      <th>1</th>\n",
       "      <td>1</td>\n",
       "      <td>0</td>\n",
       "    </tr>\n",
       "    <tr>\n",
       "      <th>2</th>\n",
       "      <td>2</td>\n",
       "      <td>1</td>\n",
       "    </tr>\n",
       "    <tr>\n",
       "      <th>3</th>\n",
       "      <td>3</td>\n",
       "      <td>1</td>\n",
       "    </tr>\n",
       "    <tr>\n",
       "      <th>4</th>\n",
       "      <td>4</td>\n",
       "      <td>0</td>\n",
       "    </tr>\n",
       "  </tbody>\n",
       "</table>\n",
       "</div>"
      ],
      "text/plain": [
       "   user_id  is_male\n",
       "0        0        1\n",
       "1        1        0\n",
       "2        2        1\n",
       "3        3        1\n",
       "4        4        0"
      ]
     },
     "execution_count": 23,
     "metadata": {},
     "output_type": "execute_result"
    }
   ],
   "source": [
    "data_2=data_2.drop(['orig_user_id'], axis=1)\n",
    "data_2=data_2.drop(['age'], axis=1)\n",
    "data_2[:5]"
   ]
  },
  {
   "cell_type": "code",
   "execution_count": 33,
   "metadata": {},
   "outputs": [
    {
     "data": {
      "text/html": [
       "<div>\n",
       "<style scoped>\n",
       "    .dataframe tbody tr th:only-of-type {\n",
       "        vertical-align: middle;\n",
       "    }\n",
       "\n",
       "    .dataframe tbody tr th {\n",
       "        vertical-align: top;\n",
       "    }\n",
       "\n",
       "    .dataframe thead th {\n",
       "        text-align: right;\n",
       "    }\n",
       "</style>\n",
       "<table border=\"1\" class=\"dataframe\">\n",
       "  <thead>\n",
       "    <tr style=\"text-align: right;\">\n",
       "      <th></th>\n",
       "      <th>user_id</th>\n",
       "      <th>item_id</th>\n",
       "      <th>rating</th>\n",
       "      <th>is_male_x</th>\n",
       "      <th>is_male_y</th>\n",
       "    </tr>\n",
       "  </thead>\n",
       "  <tbody>\n",
       "    <tr>\n",
       "      <th>0</th>\n",
       "      <td>772</td>\n",
       "      <td>36</td>\n",
       "      <td>3</td>\n",
       "      <td>1</td>\n",
       "      <td>1</td>\n",
       "    </tr>\n",
       "    <tr>\n",
       "      <th>1</th>\n",
       "      <td>772</td>\n",
       "      <td>175</td>\n",
       "      <td>4</td>\n",
       "      <td>1</td>\n",
       "      <td>1</td>\n",
       "    </tr>\n",
       "    <tr>\n",
       "      <th>2</th>\n",
       "      <td>772</td>\n",
       "      <td>1168</td>\n",
       "      <td>3</td>\n",
       "      <td>1</td>\n",
       "      <td>1</td>\n",
       "    </tr>\n",
       "    <tr>\n",
       "      <th>3</th>\n",
       "      <td>772</td>\n",
       "      <td>208</td>\n",
       "      <td>5</td>\n",
       "      <td>1</td>\n",
       "      <td>1</td>\n",
       "    </tr>\n",
       "    <tr>\n",
       "      <th>4</th>\n",
       "      <td>772</td>\n",
       "      <td>322</td>\n",
       "      <td>3</td>\n",
       "      <td>1</td>\n",
       "      <td>1</td>\n",
       "    </tr>\n",
       "  </tbody>\n",
       "</table>\n",
       "</div>"
      ],
      "text/plain": [
       "   user_id  item_id  rating  is_male_x  is_male_y\n",
       "0      772       36       3          1          1\n",
       "1      772      175       4          1          1\n",
       "2      772     1168       3          1          1\n",
       "3      772      208       5          1          1\n",
       "4      772      322       3          1          1"
      ]
     },
     "execution_count": 33,
     "metadata": {},
     "output_type": "execute_result"
    }
   ],
   "source": [
    "import sklearn\n",
    "from sklearn.preprocessing import StandardScaler\n",
    "data_U=sklearn.preprocessing.normalize(U)\n",
    "data_VT=sklearn.preprocessing.normalize(VT)\n",
    "data=data.merge(data_2, left_on='user_id', right_on='user_id')#merging both the datasets\n",
    "data.head()"
   ]
  },
  {
   "cell_type": "code",
   "execution_count": 25,
   "metadata": {},
   "outputs": [
    {
     "data": {
      "text/plain": [
       "89992"
      ]
     },
     "execution_count": 25,
     "metadata": {},
     "output_type": "execute_result"
    }
   ],
   "source": [
    "len(data[\"is_male\"])"
   ]
  },
  {
   "cell_type": "code",
   "execution_count": 26,
   "metadata": {},
   "outputs": [
    {
     "name": "stderr",
     "output_type": "stream",
     "text": [
      "100%|████████████████████████████████████████████████████████████████████████████████████| 5/5 [03:01<00:00, 36.28s/it]\n"
     ]
    }
   ],
   "source": [
    "n_epoch=5\n",
    "mu_2=m_u(data['is_male'])\n",
    "b=initialize(data_U[:,0])\n",
    "c=initialize(data_VT.T[:,0])\n",
    "for each in tqdm(range(n_epoch)):\n",
    "    for i in range(len(data)):\n",
    "        b[data[\"user_id\"][i]-1]+= -0.0002*derivative_db(data[\"user_id\"][i],data[\"item_id\"][i],data[\"is_male\"][i],data_U,data_VT,mu_2,alpha)\n",
    "\n",
    "        c[data[\"item_id\"][i]-1]+= -0.0002*derivative_dc(data[\"user_id\"][i],data[\"item_id\"][i],data[\"is_male\"][i],data_U,data_VT,mu_2)\n"
   ]
  },
  {
   "cell_type": "code",
   "execution_count": 27,
   "metadata": {},
   "outputs": [],
   "source": [
    "y_predicted=0\n",
    "mse=0\n",
    "predicted_2=[]\n",
    "for i in range(len(data)):\n",
    "    y_predicted=mu_2+b[data[\"user_id\"][i]-1] + c[data[\"item_id\"][i]-1]+ np.dot(data_U[data[\"user_id\"][i]-1].T,data_VT[:,data[\"item_id\"][i]-1])\n",
    "    mse+=(y_predicted-data[\"is_male\"][i])**2\n",
    "    predicted_2.append(y_predicted)\n",
    "    "
   ]
  },
  {
   "cell_type": "code",
   "execution_count": 28,
   "metadata": {},
   "outputs": [],
   "source": [
    "mse_2=0\n",
    "predicted=[]\n",
    "for i in range(len(data)):\n",
    "    y_predicted=mu_2+b[data[\"user_id\"][i]-1] + c[data[\"item_id\"][i]-1]+ np.dot(U[data[\"user_id\"][i]-1].T,VT[:,data[\"item_id\"][i]-1])\n",
    "    mse_2+=(y_predicted-data[\"is_male\"][i])**2\n",
    "    predicted.append(y_predicted)"
   ]
  },
  {
   "cell_type": "code",
   "execution_count": 29,
   "metadata": {},
   "outputs": [
    {
     "data": {
      "text/plain": [
       "0.09684996612713985"
      ]
     },
     "execution_count": 29,
     "metadata": {},
     "output_type": "execute_result"
    }
   ],
   "source": [
    "mse/len(data)"
   ]
  },
  {
   "cell_type": "code",
   "execution_count": 30,
   "metadata": {},
   "outputs": [
    {
     "name": "stdout",
     "output_type": "stream",
     "text": [
      "accuracy Score for predicting males :86.2499\n"
     ]
    }
   ],
   "source": [
    "from sklearn import metrics\n",
    "y_2=[]\n",
    "for i in range(len(predicted)):\n",
    "    if predicted[i]<0.5:\n",
    "        y_2.append(0)\n",
    "    else:\n",
    "        y_2.append(1)\n",
    "print(\"accuracy Score for predicting males :{0:.4f}\".format (metrics.accuracy_score(data[\"is_male\"],y_2)*100))       "
   ]
  },
  {
   "cell_type": "code",
   "execution_count": 31,
   "metadata": {},
   "outputs": [
    {
     "data": {
      "text/plain": [
       "23123"
      ]
     },
     "execution_count": 31,
     "metadata": {},
     "output_type": "execute_result"
    }
   ],
   "source": [
    "len(data[data[\"is_male\"]==0])"
   ]
  },
  {
   "cell_type": "code",
   "execution_count": 32,
   "metadata": {},
   "outputs": [],
   "source": []
  }
 ],
 "metadata": {
  "kernelspec": {
   "display_name": "Python 3",
   "language": "python",
   "name": "python3"
  },
  "language_info": {
   "codemirror_mode": {
    "name": "ipython",
    "version": 3
   },
   "file_extension": ".py",
   "mimetype": "text/x-python",
   "name": "python",
   "nbconvert_exporter": "python",
   "pygments_lexer": "ipython3",
   "version": "3.7.6"
  }
 },
 "nbformat": 4,
 "nbformat_minor": 4
}
